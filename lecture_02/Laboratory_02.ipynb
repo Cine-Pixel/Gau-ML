{
 "cells": [
  {
   "cell_type": "markdown",
   "metadata": {},
   "source": [
    "# Laboratory 2"
   ]
  },
  {
   "cell_type": "markdown",
   "metadata": {},
   "source": [
    "### Imports"
   ]
  },
  {
   "cell_type": "code",
   "execution_count": 11,
   "metadata": {},
   "outputs": [],
   "source": [
    "import math\n",
    "import random"
   ]
  },
  {
   "cell_type": "markdown",
   "metadata": {},
   "source": [
    "### Task 1\n",
    "შეიტანეთ ათწილადი რიცხვი, დაამრგვალეთ ათწილად ნაწილში მეათედის\n",
    "სიზუსტით (1 ციფრი ათწილად ნაწილში) და დაბეჭდეთ შედეგი. გამოიყენეთ\n",
    "round, ceil, floor, trunc ფუნქციები სათითაოდ და შეამოწმეთ შედეგი თითოეულის\n",
    "გამოყენებით."
   ]
  },
  {
   "cell_type": "code",
   "execution_count": 23,
   "metadata": {},
   "outputs": [
    {
     "name": "stdout",
     "output_type": "stream",
     "text": [
      "round(10.345) = 10.3\n",
      "math.ceil(10.345) = 11\n",
      "math.floor(10.345) = 10\n",
      "math.trunc(10.345) = 10\n"
     ]
    }
   ],
   "source": [
    "n = float(input(\"Enter number: \"))\n",
    "print(f\"round({n}) = {round(n, 1)}\")\n",
    "print(f\"math.ceil({n}) = {math.ceil(n)}\")\n",
    "print(f\"math.floor({n}) = {math.floor(n)}\")\n",
    "print(f\"math.trunc({n}) = {math.trunc(n)}\")"
   ]
  },
  {
   "cell_type": "markdown",
   "metadata": {},
   "source": [
    "### Task 2\n",
    "შეიტანეთ სამი რიცხვი, იპოვეთ მათ შორის მაქსიმუმი და დაბეჭდეთ შედეგი.\n",
    "გამოიყენეთ max ფუნქცია."
   ]
  },
  {
   "cell_type": "code",
   "execution_count": 1,
   "metadata": {},
   "outputs": [
    {
     "name": "stdout",
     "output_type": "stream",
     "text": [
      "3\n"
     ]
    }
   ],
   "source": [
    "nums = []\n",
    "for i in range(3):\n",
    "    nums.append(float(input(f\"Enter number {i}: \")))\n",
    "print(max(nums))"
   ]
  },
  {
   "cell_type": "markdown",
   "metadata": {},
   "source": [
    "### Task 4\n",
    "დააგენერირეთ ნებისმიერი შემთხვევითი ათწილადი რიცხვი დიაპაზონიდან 0-დან\n",
    "1-ის ჩათვლით. დაამრგვალეთ რიცხვი (3 ციფრი ათწილად ნაწილში) და დაბეჭდეთ."
   ]
  },
  {
   "cell_type": "code",
   "execution_count": 29,
   "metadata": {},
   "outputs": [
    {
     "name": "stdout",
     "output_type": "stream",
     "text": [
      "0.082\n"
     ]
    }
   ],
   "source": [
    "rn = random.random()\n",
    "print(round(rn, 3))"
   ]
  },
  {
   "cell_type": "markdown",
   "metadata": {},
   "source": [
    "### Task 6 \n",
    "დააგენერირეთ 10 შემთხვევითი მთელი რიცხვი და დაბეჭდეთ ეკრანზე. მითითება:\n",
    "გამოიყენეთ ციკლის ოპერატორი."
   ]
  },
  {
   "cell_type": "code",
   "execution_count": 20,
   "metadata": {},
   "outputs": [
    {
     "name": "stdout",
     "output_type": "stream",
     "text": [
      "60 69 53 76 20 100 44 31 48 80 "
     ]
    }
   ],
   "source": [
    "for _ in range(10):\n",
    "    print(random.randint(1, 100), end=\" \")"
   ]
  },
  {
   "cell_type": "markdown",
   "metadata": {},
   "source": [
    "### Task 8\n",
    "დაწერეთ ფუნქცია, რომელსაც არგუმენტად გადაეცემა ორი რიცხვი და დაითვლის\n",
    "მათ საშუალო არითმეტიკულს და დაბეჭდავს შედეგს (გაითვალისწინეთ რომ\n",
    "დაბეჭდვა უნდა მოხდეს ფუნქციის შიგნით - ფუნქცია არ აბრუნებს\n",
    "მნიშვნელობას). გამოიძახეთ ფუნქცია 3-ჯერ სხვადასხვა რიცხვებისთვის."
   ]
  },
  {
   "cell_type": "code",
   "execution_count": 2,
   "metadata": {},
   "outputs": [
    {
     "name": "stdout",
     "output_type": "stream",
     "text": [
      "3.5\n",
      "17.5\n",
      "159.0\n"
     ]
    }
   ],
   "source": [
    "def average_of_two(a, b):\n",
    "    print(a+b/2)\n",
    "\n",
    "average_of_two(2, 3)\n",
    "average_of_two(10, 15)\n",
    "average_of_two(134, 50)"
   ]
  },
  {
   "cell_type": "markdown",
   "metadata": {},
   "source": [
    "### Task 11\n",
    "დაწერეთ ფუნქცია, რომელიც შეამოწმებს პარამეტრად გადაცემული რიცხვი არის\n",
    "თუ არა კენტი. თუ კენტია, დააბრუნოს მნიშვნელობა True, თუ არადა - False.\n",
    "შეამოწმეთ რამდენიმე რიცხვისთვის და დაბეჭდეთ შედეგი."
   ]
  },
  {
   "cell_type": "code",
   "execution_count": 3,
   "metadata": {},
   "outputs": [
    {
     "name": "stdout",
     "output_type": "stream",
     "text": [
      "False\n",
      "True\n",
      "False\n"
     ]
    }
   ],
   "source": [
    "def is_odd(n):\n",
    "    return n%2 == 0\n",
    "\n",
    "print(is_odd(5))\n",
    "print(is_odd(2))\n",
    "print(is_odd(23))"
   ]
  },
  {
   "cell_type": "markdown",
   "metadata": {},
   "source": [
    "### Task 15\n",
    "შექმენით სია numbs ნებისმიერ 5 რიცხვითი მნიშვნელობით. იპოვეთ ამ რიცხვების\n",
    "ჯამი, მინიმალური, მაქსიმალური და საშუალო არითმეტიკული. ასევე შეასრულეთ\n",
    "შემდეგი ოპერაციები:\n",
    "- სიას დაამატეთ ბოლო ელემენტად რიცხვი 102\n",
    "- სიის მესამე ელემენტად ჩასვით რიცხვი 205\n",
    "- წაშალეთ სიის მე-4 ელემენტი\n",
    "- დაალაგეთ სია ზრდადობის მიხედვით და დაბეჭდეთ."
   ]
  },
  {
   "cell_type": "code",
   "execution_count": 22,
   "metadata": {},
   "outputs": [
    {
     "name": "stdout",
     "output_type": "stream",
     "text": [
      "List at beginning: [5, 1, 6, 11, 20]\n",
      "Sum: 43\n",
      "Min: 1\n",
      "Max: 20\n",
      "Mean: 8.6\n",
      "List at the end: [1, 5, 11, 20, 102, 205]\n"
     ]
    }
   ],
   "source": [
    "nums = [5, 1, 6, 11, 20]\n",
    "print(\"List at beginning: \", end=\"\")\n",
    "print(nums)\n",
    "\n",
    "sm = sum(nums)\n",
    "minimum = min(nums)\n",
    "maximum = max(nums)\n",
    "mean = sm / len(nums)\n",
    "\n",
    "nums.append(102)\n",
    "nums.insert(2, 205)\n",
    "nums.pop(3)\n",
    "nums.sort()\n",
    "\n",
    "print(f\"Sum: {sm}\")\n",
    "print(f\"Min: {minimum}\")\n",
    "print(f\"Max: {maximum}\")\n",
    "print(f\"Mean: {mean}\")\n",
    "print(\"List at the end: \", end=\"\")\n",
    "print(nums)"
   ]
  },
  {
   "cell_type": "markdown",
   "metadata": {},
   "source": [
    "### Task 19\n",
    "დაწერეთ პროგრამა, რომელიც რიცხვითი მნიშვნელობების სიაში ამოშლის კენტ\n",
    "რიცხვებს. დაბეჭდეთ მიღებული სია."
   ]
  },
  {
   "cell_type": "code",
   "execution_count": 4,
   "metadata": {},
   "outputs": [
    {
     "name": "stdout",
     "output_type": "stream",
     "text": [
      "[2, 6, 2, 20]\n",
      "[2]\n"
     ]
    }
   ],
   "source": [
    "def remove_odds(lst):\n",
    "    return [e for e in lst if e%2 == 0]\n",
    "\n",
    "print(remove_odds([2, 3, 5, 6, 2, 20]))\n",
    "print(remove_odds([5, 7, 11, 2]))"
   ]
  },
  {
   "cell_type": "markdown",
   "metadata": {},
   "source": [
    "### Task 21\n",
    "შექმენით 10 ელემენტიანი სია, რომლის ელემენტებია ნებისმიერი შემთხვევითი\n",
    "მთელი რიცხვები 25-დან 110-მდე. დაბეჭდეთ სია და იპოვეთ მინიმალური\n",
    "ელემენტი."
   ]
  },
  {
   "cell_type": "code",
   "execution_count": 6,
   "metadata": {},
   "outputs": [
    {
     "name": "stdout",
     "output_type": "stream",
     "text": [
      "[61, 30, 25, 80, 33, 53, 25, 96, 104, 71]\n"
     ]
    }
   ],
   "source": [
    "lst = [random.randint(25, 110) for _ in range(10)]\n",
    "print(lst)"
   ]
  },
  {
   "cell_type": "markdown",
   "metadata": {},
   "source": [
    "### Task 24\n",
    "შექმენით სია რიცხვითი ელემენტებით. shuffle ფუნქციის გამოყენებით (random\n",
    "მოდულიდან) მოახდინეთ სიის ელემენტების შემთხვევითად არევა და დაბეჭდეთ\n",
    "მიღებული სია. (მითითება: ფუნქცია იწერება შემდეგნაირად: random.shuffle(x)\n",
    "სადაც x სიის დასახელებაა)"
   ]
  },
  {
   "cell_type": "code",
   "execution_count": 8,
   "metadata": {},
   "outputs": [
    {
     "name": "stdout",
     "output_type": "stream",
     "text": [
      "List before: [5, 23, 2, 1, 45, 100, 13]\n",
      "List after: [23, 1, 13, 100, 45, 5, 2]\n"
     ]
    }
   ],
   "source": [
    "x = [5, 23, 2, 1, 45, 100, 13]\n",
    "print(\"List before: \", end=\"\")\n",
    "print(x)\n",
    "\n",
    "random.shuffle(x)\n",
    "print(\"List after: \", end=\"\")\n",
    "print(x)"
   ]
  },
  {
   "cell_type": "markdown",
   "metadata": {},
   "source": [
    "### Task 27\n",
    "იპოვეთ სიაში [1, 5, 23, 5, 12, 2, 5, 1, 18, 5] ყველაზე ხშირად განმეორებადი რიცხვი.\n",
    "დაბეჭდეთ შედეგი. ასევე მიუთითეთ რამდენჯერ შეგხვდათ სიაში ყველაზე\n",
    "ხშირად განმეორებადი რიცხვი."
   ]
  },
  {
   "cell_type": "code",
   "execution_count": 17,
   "metadata": {},
   "outputs": [
    {
     "name": "stdout",
     "output_type": "stream",
     "text": [
      "Mode: 5, Frequency: 4\n"
     ]
    }
   ],
   "source": [
    "lst = [1, 5, 23, 5, 12, 2, 5, 1, 18, 5]\n",
    "mode = max(lst, key=lst.count)\n",
    "print(f\"Mode: {mode}, Frequency: {lst.count(mode)}\")"
   ]
  },
  {
   "cell_type": "markdown",
   "metadata": {},
   "source": [
    "### Task 28\n",
    "შექმენით სია extensions = [&#39;txt&#39;, &#39;jpg&#39;, &#39;gif&#39;, &#39;html&#39;]. პროგრამის გაშვების შემდეგ\n",
    "მომხამრებელმა შეიყვანოს (input) ნებისმიერი ფაილის დასახელება. თუ ფაილის\n",
    "გაფართოება ემთხევა სიის რომელიმე ელემენტს, დაბეჭდოს ეკრანზე “Yes”,\n",
    "წინააღმდეგ შემთხვავაში დაბეჭდოს “No”."
   ]
  },
  {
   "cell_type": "code",
   "execution_count": 31,
   "metadata": {},
   "outputs": [
    {
     "name": "stdout",
     "output_type": "stream",
     "text": [
      "No\n"
     ]
    }
   ],
   "source": [
    "extensions = ['txt', 'jpg', 'gif', 'html']\n",
    "user_ext = input(\"Enter extension: \")\n",
    "print((\"Yes\" if user_ext in extensions else \"No\"))"
   ]
  },
  {
   "cell_type": "markdown",
   "metadata": {},
   "source": [
    "### Task 29\n",
    "სტრიქონი &#39;python php pascal javascript java c++&#39; წარმოადგინეთ სიის სახით\n",
    "(სტრიქონის თითოეული სიტყვა სიის თითოეული ელემენტად). იპოვეთ სიის\n",
    "ყველაზე გრძელი ელემენტი (ანუ ყველაზე გრძელი სიტყვა)."
   ]
  },
  {
   "cell_type": "code",
   "execution_count": 1,
   "metadata": {},
   "outputs": [
    {
     "name": "stdout",
     "output_type": "stream",
     "text": [
      "javascript\n"
     ]
    }
   ],
   "source": [
    "string = \"python php pascal javascript java c++\"\n",
    "string_list = string.split(\" \")\n",
    "\n",
    "longest = max(string_list, key=lambda x: len(x))\n",
    "print(longest)"
   ]
  },
  {
   "cell_type": "markdown",
   "metadata": {},
   "source": [
    "### Task 30\n",
    "შეიტანეთ სიის 10 ელემენტი. იპოვეთ ამ რიცხვების საშუალო არითმეტიკული,\n",
    "მედიანა და მოდა. გაითვალისწინეთ, მედიანა წარმოადგენს შუა ელემენტს,\n",
    "როდესაც რიცხვები დალაგებულია ზრდადობით (ან კლებადობით); თუ შუაში ორი\n",
    "ელემენტია, მაშინ მედიანა არის ამ შუა ელემენტების საშუალო არითმეტიკული.\n",
    "მოდა, არის მიმდევრობაში რიცხვი, რომელიც ყველაზე ხშირად გვხვდება.\n",
    "შეიძლება მიმდევრობას არ ქონდეს მოდა (თუ ყველა ელემენტს ერთნაირი სიხშირე\n",
    "აქვს), ან ქონდეს ერთი ან რამდენიმე მოდა."
   ]
  },
  {
   "cell_type": "code",
   "execution_count": 16,
   "metadata": {},
   "outputs": [
    {
     "name": "stdout",
     "output_type": "stream",
     "text": [
      "Mean: 4.1\n",
      "Median: 4.0\n",
      "Mode: 2.0\n",
      "[2.0, 2.0, 3.0, 3.0, 4.0, 4.0, 5.0, 5.0, 6.0, 7.0]\n"
     ]
    }
   ],
   "source": [
    "nums = []\n",
    "for i in range(10): \n",
    "    nums.append(float(input(f\"Enter number {i}: \")))\n",
    "\n",
    "mean = sum(nums) / len(nums)\n",
    "print(f\"Mean: {mean}\")\n",
    "nums.sort()\n",
    "\n",
    "mid_idx = int(len(nums) / 2)\n",
    "if len(nums) % 2 == 0:\n",
    "    median = (nums[mid_idx] + nums[mid_idx-1])/2\n",
    "else:\n",
    "    median = nums[mid_idx]\n",
    "print(f\"Median: {median}\")\n",
    "\n",
    "mode = max(nums, key=nums.count) \n",
    "print(f\"Mode: {mode}\")\n",
    "print(nums)"
   ]
  }
 ],
 "metadata": {
  "interpreter": {
   "hash": "b9093a1ddd1e5a1702194cb97bbe1c4516ab068916d9c0e38046918de0d5914d"
  },
  "kernelspec": {
   "display_name": "Python 3.9.2 64-bit ('env': venv)",
   "name": "python3"
  },
  "language_info": {
   "codemirror_mode": {
    "name": "ipython",
    "version": 3
   },
   "file_extension": ".py",
   "mimetype": "text/x-python",
   "name": "python",
   "nbconvert_exporter": "python",
   "pygments_lexer": "ipython3",
   "version": "3.9.2"
  },
  "orig_nbformat": 4
 },
 "nbformat": 4,
 "nbformat_minor": 2
}
