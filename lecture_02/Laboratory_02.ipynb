{
 "cells": [
  {
   "cell_type": "markdown",
   "source": [
    "# Laboratory 2"
   ],
   "metadata": {}
  },
  {
   "cell_type": "markdown",
   "source": [
    "### Imports"
   ],
   "metadata": {}
  },
  {
   "cell_type": "code",
   "execution_count": 11,
   "source": [
    "import math\r\n",
    "import random"
   ],
   "outputs": [],
   "metadata": {}
  },
  {
   "cell_type": "markdown",
   "source": [
    "### Task 1\r\n",
    "შეიტანეთ ათწილადი რიცხვი, დაამრგვალეთ ათწილად ნაწილში მეათედის\r\n",
    "სიზუსტით (1 ციფრი ათწილად ნაწილში) და დაბეჭდეთ შედეგი. გამოიყენეთ\r\n",
    "round, ceil, floor, trunc ფუნქციები სათითაოდ და შეამოწმეთ შედეგი თითოეულის\r\n",
    "გამოყენებით."
   ],
   "metadata": {}
  },
  {
   "cell_type": "code",
   "execution_count": 23,
   "source": [
    "n = float(input(\"Enter number: \"))\r\n",
    "print(f\"round({n}) = {round(n, 1)}\")\r\n",
    "print(f\"math.ceil({n}) = {math.ceil(n)}\")\r\n",
    "print(f\"math.floor({n}) = {math.floor(n)}\")\r\n",
    "print(f\"math.trunc({n}) = {math.trunc(n)}\")"
   ],
   "outputs": [
    {
     "output_type": "stream",
     "name": "stdout",
     "text": [
      "round(10.345) = 10.3\n",
      "math.ceil(10.345) = 11\n",
      "math.floor(10.345) = 10\n",
      "math.trunc(10.345) = 10\n"
     ]
    }
   ],
   "metadata": {}
  },
  {
   "cell_type": "markdown",
   "source": [
    "### Task 2\r\n",
    "შეიტანეთ სამი რიცხვი, იპოვეთ მათ შორის მაქსიმუმი და დაბეჭდეთ შედეგი.\r\n",
    "გამოიყენეთ max ფუნქცია."
   ],
   "metadata": {}
  },
  {
   "cell_type": "code",
   "execution_count": 1,
   "source": [
    "nums = []\r\n",
    "for i in range(3):\r\n",
    "    nums.append(float(input(f\"Enter number {i}: \")))\r\n",
    "print(max(nums))"
   ],
   "outputs": [
    {
     "output_type": "stream",
     "name": "stdout",
     "text": [
      "3\n"
     ]
    }
   ],
   "metadata": {}
  },
  {
   "cell_type": "markdown",
   "source": [
    "### Task 4\r\n",
    "დააგენერირეთ ნებისმიერი შემთხვევითი ათწილადი რიცხვი დიაპაზონიდან 0-დან\r\n",
    "1-ის ჩათვლით. დაამრგვალეთ რიცხვი (3 ციფრი ათწილად ნაწილში) და დაბეჭდეთ."
   ],
   "metadata": {}
  },
  {
   "cell_type": "code",
   "execution_count": 29,
   "source": [
    "rn = random.random()\r\n",
    "print(round(rn, 3))"
   ],
   "outputs": [
    {
     "output_type": "stream",
     "name": "stdout",
     "text": [
      "0.082\n"
     ]
    }
   ],
   "metadata": {}
  },
  {
   "cell_type": "markdown",
   "source": [
    "### Task 6 \r\n",
    "დააგენერირეთ 10 შემთხვევითი მთელი რიცხვი და დაბეჭდეთ ეკრანზე. მითითება:\r\n",
    "გამოიყენეთ ციკლის ოპერატორი."
   ],
   "metadata": {}
  },
  {
   "cell_type": "code",
   "execution_count": 20,
   "source": [
    "for _ in range(10):\r\n",
    "    print(random.randint(1, 100), end=\" \")"
   ],
   "outputs": [
    {
     "output_type": "stream",
     "name": "stdout",
     "text": [
      "60 69 53 76 20 100 44 31 48 80 "
     ]
    }
   ],
   "metadata": {}
  },
  {
   "cell_type": "markdown",
   "source": [
    "### Task 8\r\n",
    "დაწერეთ ფუნქცია, რომელსაც არგუმენტად გადაეცემა ორი რიცხვი და დაითვლის\r\n",
    "მათ საშუალო არითმეტიკულს და დაბეჭდავს შედეგს (გაითვალისწინეთ რომ\r\n",
    "დაბეჭდვა უნდა მოხდეს ფუნქციის შიგნით - ფუნქცია არ აბრუნებს\r\n",
    "მნიშვნელობას). გამოიძახეთ ფუნქცია 3-ჯერ სხვადასხვა რიცხვებისთვის."
   ],
   "metadata": {}
  },
  {
   "cell_type": "code",
   "execution_count": 2,
   "source": [
    "def average_of_two(a, b):\r\n",
    "    print(a+b/2)\r\n",
    "\r\n",
    "average_of_two(2, 3)\r\n",
    "average_of_two(10, 15)\r\n",
    "average_of_two(134, 50)"
   ],
   "outputs": [
    {
     "output_type": "stream",
     "name": "stdout",
     "text": [
      "3.5\n",
      "17.5\n",
      "159.0\n"
     ]
    }
   ],
   "metadata": {}
  },
  {
   "cell_type": "markdown",
   "source": [
    "### Task 11\r\n",
    "დაწერეთ ფუნქცია, რომელიც შეამოწმებს პარამეტრად გადაცემული რიცხვი არის\r\n",
    "თუ არა კენტი. თუ კენტია, დააბრუნოს მნიშვნელობა True, თუ არადა - False.\r\n",
    "შეამოწმეთ რამდენიმე რიცხვისთვის და დაბეჭდეთ შედეგი."
   ],
   "metadata": {}
  },
  {
   "cell_type": "code",
   "execution_count": 3,
   "source": [
    "def is_odd(n):\r\n",
    "    return n%2 == 0\r\n",
    "\r\n",
    "print(is_odd(5))\r\n",
    "print(is_odd(2))\r\n",
    "print(is_odd(23))"
   ],
   "outputs": [
    {
     "output_type": "stream",
     "name": "stdout",
     "text": [
      "False\n",
      "True\n",
      "False\n"
     ]
    }
   ],
   "metadata": {}
  },
  {
   "cell_type": "markdown",
   "source": [
    "### Task 15\r\n",
    "შექმენით სია numbs ნებისმიერ 5 რიცხვითი მნიშვნელობით. იპოვეთ ამ რიცხვების\r\n",
    "ჯამი, მინიმალური, მაქსიმალური და საშუალო არითმეტიკული. ასევე შეასრულეთ\r\n",
    "შემდეგი ოპერაციები:\r\n",
    "- სიას დაამატეთ ბოლო ელემენტად რიცხვი 102\r\n",
    "- სიის მესამე ელემენტად ჩასვით რიცხვი 205\r\n",
    "- წაშალეთ სიის მე-4 ელემენტი\r\n",
    "- დაალაგეთ სია ზრდადობის მიხედვით და დაბეჭდეთ."
   ],
   "metadata": {}
  },
  {
   "cell_type": "code",
   "execution_count": 22,
   "source": [
    "nums = [5, 1, 6, 11, 20]\r\n",
    "print(\"List at beginning: \", end=\"\")\r\n",
    "print(nums)\r\n",
    "\r\n",
    "sm = sum(nums)\r\n",
    "minimum = min(nums)\r\n",
    "maximum = max(nums)\r\n",
    "mean = sm / len(nums)\r\n",
    "\r\n",
    "nums.append(102)\r\n",
    "nums.insert(2, 205)\r\n",
    "nums.pop(3)\r\n",
    "nums.sort()\r\n",
    "\r\n",
    "print(f\"Sum: {sm}\")\r\n",
    "print(f\"Min: {minimum}\")\r\n",
    "print(f\"Max: {maximum}\")\r\n",
    "print(f\"Mean: {mean}\")\r\n",
    "print(\"List at the end: \", end=\"\")\r\n",
    "print(nums)"
   ],
   "outputs": [
    {
     "output_type": "stream",
     "name": "stdout",
     "text": [
      "List at beginning: [5, 1, 6, 11, 20]\n",
      "Sum: 43\n",
      "Min: 1\n",
      "Max: 20\n",
      "Mean: 8.6\n",
      "List at the end: [1, 5, 11, 20, 102, 205]\n"
     ]
    }
   ],
   "metadata": {}
  },
  {
   "cell_type": "markdown",
   "source": [
    "### Task 19\r\n",
    "დაწერეთ პროგრამა, რომელიც რიცხვითი მნიშვნელობების სიაში ამოშლის კენტ\r\n",
    "რიცხვებს. დაბეჭდეთ მიღებული სია."
   ],
   "metadata": {}
  },
  {
   "cell_type": "code",
   "execution_count": 4,
   "source": [
    "def remove_odds(lst):\r\n",
    "    return [e for e in lst if e%2 == 0]\r\n",
    "\r\n",
    "print(remove_odds([2, 3, 5, 6, 2, 20]))\r\n",
    "print(remove_odds([5, 7, 11, 2]))"
   ],
   "outputs": [
    {
     "output_type": "stream",
     "name": "stdout",
     "text": [
      "[2, 6, 2, 20]\n",
      "[2]\n"
     ]
    }
   ],
   "metadata": {}
  },
  {
   "cell_type": "markdown",
   "source": [
    "### Task 21\r\n",
    "შექმენით 10 ელემენტიანი სია, რომლის ელემენტებია ნებისმიერი შემთხვევითი\r\n",
    "მთელი რიცხვები 25-დან 110-მდე. დაბეჭდეთ სია და იპოვეთ მინიმალური\r\n",
    "ელემენტი."
   ],
   "metadata": {}
  },
  {
   "cell_type": "code",
   "execution_count": 6,
   "source": [
    "lst = [random.randint(25, 110) for _ in range(10)]\r\n",
    "print(lst)"
   ],
   "outputs": [
    {
     "output_type": "stream",
     "name": "stdout",
     "text": [
      "[61, 30, 25, 80, 33, 53, 25, 96, 104, 71]\n"
     ]
    }
   ],
   "metadata": {}
  },
  {
   "cell_type": "markdown",
   "source": [
    "### Task 24\r\n",
    "შექმენით სია რიცხვითი ელემენტებით. shuffle ფუნქციის გამოყენებით (random\r\n",
    "მოდულიდან) მოახდინეთ სიის ელემენტების შემთხვევითად არევა და დაბეჭდეთ\r\n",
    "მიღებული სია. (მითითება: ფუნქცია იწერება შემდეგნაირად: random.shuffle(x)\r\n",
    "სადაც x სიის დასახელებაა)"
   ],
   "metadata": {}
  },
  {
   "cell_type": "code",
   "execution_count": 8,
   "source": [
    "x = [5, 23, 2, 1, 45, 100, 13]\r\n",
    "print(\"List before: \", end=\"\")\r\n",
    "print(x)\r\n",
    "\r\n",
    "random.shuffle(x)\r\n",
    "print(\"List after: \", end=\"\")\r\n",
    "print(x)"
   ],
   "outputs": [
    {
     "output_type": "stream",
     "name": "stdout",
     "text": [
      "List before: [5, 23, 2, 1, 45, 100, 13]\n",
      "List after: [23, 1, 13, 100, 45, 5, 2]\n"
     ]
    }
   ],
   "metadata": {}
  },
  {
   "cell_type": "markdown",
   "source": [
    "### Task 27\r\n",
    "იპოვეთ სიაში [1, 5, 23, 5, 12, 2, 5, 1, 18, 5] ყველაზე ხშირად განმეორებადი რიცხვი.\r\n",
    "დაბეჭდეთ შედეგი. ასევე მიუთითეთ რამდენჯერ შეგხვდათ სიაში ყველაზე\r\n",
    "ხშირად განმეორებადი რიცხვი."
   ],
   "metadata": {}
  },
  {
   "cell_type": "code",
   "execution_count": 17,
   "source": [
    "lst = [1, 5, 23, 5, 12, 2, 5, 1, 18, 5]\r\n",
    "mode = max(lst, key=lst.count)\r\n",
    "print(f\"Mode: {mode}, Frequency: {lst.count(mode)}\")"
   ],
   "outputs": [
    {
     "output_type": "stream",
     "name": "stdout",
     "text": [
      "Mode: 5, Frequency: 4\n"
     ]
    }
   ],
   "metadata": {}
  },
  {
   "cell_type": "markdown",
   "source": [
    "### Task 28\r\n",
    "შექმენით სია extensions = [&#39;txt&#39;, &#39;jpg&#39;, &#39;gif&#39;, &#39;html&#39;]. პროგრამის გაშვების შემდეგ\r\n",
    "მომხამრებელმა შეიყვანოს (input) ნებისმიერი ფაილის დასახელება. თუ ფაილის\r\n",
    "გაფართოება ემთხევა სიის რომელიმე ელემენტს, დაბეჭდოს ეკრანზე “Yes”,\r\n",
    "წინააღმდეგ შემთხვავაში დაბეჭდოს “No”."
   ],
   "metadata": {}
  },
  {
   "cell_type": "code",
   "execution_count": 31,
   "source": [
    "extensions = ['txt', 'jpg', 'gif', 'html']\r\n",
    "user_ext = input(\"Enter extension: \")\r\n",
    "print((\"Yes\" if user_ext in extensions else \"No\"))"
   ],
   "outputs": [
    {
     "output_type": "stream",
     "name": "stdout",
     "text": [
      "No\n"
     ]
    }
   ],
   "metadata": {}
  },
  {
   "cell_type": "markdown",
   "source": [
    "### Task 29\r\n",
    "სტრიქონი &#39;python php pascal javascript java c++&#39; წარმოადგინეთ სიის სახით\r\n",
    "(სტრიქონის თითოეული სიტყვა სიის თითოეული ელემენტად). იპოვეთ სიის\r\n",
    "ყველაზე გრძელი ელემენტი (ანუ ყველაზე გრძელი სიტყვა)."
   ],
   "metadata": {}
  },
  {
   "cell_type": "code",
   "execution_count": 9,
   "source": [
    "string = \"python php pascal javascript java c++\"\r\n",
    "string_list = string.split(\" \")\r\n",
    "longest = max(string_list, key=lambda x: len(x))\r\n",
    "print(longest)"
   ],
   "outputs": [
    {
     "output_type": "stream",
     "name": "stdout",
     "text": [
      "javascript\n"
     ]
    }
   ],
   "metadata": {}
  },
  {
   "cell_type": "markdown",
   "source": [
    "### Task 30\r\n",
    "შეიტანეთ სიის 10 ელემენტი. იპოვეთ ამ რიცხვების საშუალო არითმეტიკული,\r\n",
    "მედიანა და მოდა. გაითვალისწინეთ, მედიანა წარმოადგენს შუა ელემენტს,\r\n",
    "როდესაც რიცხვები დალაგებულია ზრდადობით (ან კლებადობით); თუ შუაში ორი\r\n",
    "ელემენტია, მაშინ მედიანა არის ამ შუა ელემენტების საშუალო არითმეტიკული.\r\n",
    "მოდა, არის მიმდევრობაში რიცხვი, რომელიც ყველაზე ხშირად გვხვდება.\r\n",
    "შეიძლება მიმდევრობას არ ქონდეს მოდა (თუ ყველა ელემენტს ერთნაირი სიხშირე\r\n",
    "აქვს), ან ქონდეს ერთი ან რამდენიმე მოდა."
   ],
   "metadata": {}
  },
  {
   "cell_type": "code",
   "execution_count": 16,
   "source": [
    "nums = []\r\n",
    "for i in range(10): \r\n",
    "    nums.append(float(input(f\"Enter number {i}: \")))\r\n",
    "\r\n",
    "mean = sum(nums) / len(nums)\r\n",
    "print(f\"Mean: {mean}\")\r\n",
    "nums.sort()\r\n",
    "\r\n",
    "mid_idx = int(len(nums) / 2)\r\n",
    "if len(nums) % 2 == 0:\r\n",
    "    median = (nums[mid_idx] + nums[mid_idx-1])/2\r\n",
    "else:\r\n",
    "    median = nums[mid_idx]\r\n",
    "print(f\"Median: {median}\")\r\n",
    "\r\n",
    "mode = max(nums, key=nums.count) \r\n",
    "print(f\"Mode: {mode}\")\r\n",
    "print(nums)"
   ],
   "outputs": [
    {
     "output_type": "stream",
     "name": "stdout",
     "text": [
      "Mean: 4.1\n",
      "Median: 4.0\n",
      "Mode: 2.0\n",
      "[2.0, 2.0, 3.0, 3.0, 4.0, 4.0, 5.0, 5.0, 6.0, 7.0]\n"
     ]
    }
   ],
   "metadata": {}
  }
 ],
 "metadata": {
  "orig_nbformat": 4,
  "language_info": {
   "name": "python",
   "version": "3.9.2",
   "mimetype": "text/x-python",
   "codemirror_mode": {
    "name": "ipython",
    "version": 3
   },
   "pygments_lexer": "ipython3",
   "nbconvert_exporter": "python",
   "file_extension": ".py"
  },
  "kernelspec": {
   "name": "python3",
   "display_name": "Python 3.9.2 64-bit ('env': venv)"
  },
  "interpreter": {
   "hash": "b9093a1ddd1e5a1702194cb97bbe1c4516ab068916d9c0e38046918de0d5914d"
  }
 },
 "nbformat": 4,
 "nbformat_minor": 2
}