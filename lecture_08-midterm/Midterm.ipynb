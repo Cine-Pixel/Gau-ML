{
 "cells": [
  {
   "cell_type": "markdown",
   "metadata": {},
   "source": [
    "# Midterm"
   ]
  },
  {
   "cell_type": "markdown",
   "metadata": {},
   "source": [
    "### Task 1"
   ]
  },
  {
   "cell_type": "code",
   "execution_count": 96,
   "metadata": {},
   "outputs": [
    {
     "name": "stdout",
     "output_type": "stream",
     "text": [
      "[14, 21, 35, 77, 91, 119, 133, 161, 203, 217, 259, 287, 301, 329, 343, 371, 413, 427, 469, 497, 511, 553, 581, 623, 679, 707, 721, 749, 763, 791, 889, 917, 959, 973, 1043, 1057, 1099, 1141, 1169, 1211, 1253, 1267, 1337, 1351, 1379, 1393, 1477, 1561, 1589, 1603, 1631, 1673, 1687, 1757, 1799, 1841, 1883, 1897, 1939, 1967, 1981, 2051, 2149, 2177, 2191, 2219, 2317, 2359, 2429, 2443, 2471, 2513, 2569, 2611, 2653, 2681, 2723, 2779, 2807, 2863, 2933, 2947]\n"
     ]
    }
   ],
   "source": [
    "def find_divisors(n):\n",
    "    divisors = [] \n",
    "    i = 2\n",
    "    while i <= n**0.5:\n",
    "        if (n % i == 0):\n",
    "            if (n / i == i):\n",
    "                divisors.append(i)\n",
    "            else :\n",
    "                divisors.append(i)\n",
    "                divisors.append(int(n/i))\n",
    "        i+=1\n",
    "    return divisors\n",
    "\n",
    "result = []\n",
    "for n in range(10, 3000):\n",
    "    divisors = find_divisors(n)\n",
    "    if 7 in divisors and len(divisors) == 2:\n",
    "        result.append(n)\n",
    "\n",
    "print(result)"
   ]
  },
  {
   "cell_type": "markdown",
   "metadata": {},
   "source": [
    "### Task 2"
   ]
  },
  {
   "cell_type": "code",
   "execution_count": 97,
   "metadata": {},
   "outputs": [],
   "source": [
    "import random\n",
    "\n",
    "def get_random_nums():\n",
    "    nums_count = random.randint(1, 10)\n",
    "    result = ''\n",
    "    for _ in range(nums_count):\n",
    "        random_float = round(random.uniform(0, 20), 2)\n",
    "        result = f\"{result}-{random_float}\"\n",
    "    return result.removeprefix('-')\n",
    "\n",
    "\n",
    "def formula(x):\n",
    "    return 3*x-2\n",
    "\n",
    "\n",
    "nums = get_random_nums().split('-')\n",
    "nums = [float(n) for n in nums]\n",
    "with open(\"task2.txt\", 'w') as f:\n",
    "    text = \"\"\n",
    "    for n in nums:\n",
    "        text += f\"y={formula(n)}, x={n}\\n\"\n",
    "    f.write(text)"
   ]
  },
  {
   "cell_type": "markdown",
   "metadata": {},
   "source": [
    "### Task 3"
   ]
  },
  {
   "cell_type": "code",
   "execution_count": 98,
   "metadata": {},
   "outputs": [
    {
     "name": "stdout",
     "output_type": "stream",
     "text": [
      "mystringhello - 13\n",
      "230 - 3\n"
     ]
    }
   ],
   "source": [
    "import string\n",
    "\n",
    "\n",
    "alpabet = string.ascii_letters\n",
    "nums = '1234567890'\n",
    "\n",
    "text = input(\"Enter string: \").replace(\" \", \"\")\n",
    "\n",
    "characters = \"\"\n",
    "characters_count = 0\n",
    "numbers = \"\"\n",
    "numbers_count = 0\n",
    "for char in text:\n",
    "    if char in alpabet:\n",
    "        characters += char\n",
    "        characters_count += 1\n",
    "    else:\n",
    "        numbers += char\n",
    "        numbers_count += 1\n",
    "\n",
    "print(f\"{characters} - {characters_count}\")\n",
    "print(f\"{numbers} - {numbers_count}\")\n"
   ]
  },
  {
   "cell_type": "markdown",
   "metadata": {},
   "source": [
    "### Task 4"
   ]
  },
  {
   "cell_type": "code",
   "execution_count": 99,
   "metadata": {},
   "outputs": [],
   "source": [
    "import numpy as np\n",
    "import pandas as pd\n",
    "\n",
    "import random\n",
    "import datetime\n",
    "\n",
    "def random_dates(start, end):\n",
    "    dates = []\n",
    "    for _ in range(100):\n",
    "        dates.append(start + datetime.timedelta(\n",
    "            seconds=random.randint(0, int((end - start).total_seconds())),\n",
    "        ))\n",
    "    return np.array(dates)\n",
    "\n",
    "\n",
    "d1 = datetime.datetime.strptime(\"01-01-2019\", '%d-%m-%Y')\n",
    "d2 = datetime.datetime.strptime('31-01-2019', '%d-%m-%Y')\n",
    "data = {\n",
    "    \"ID\": np.random.randint(1000, 10000, size=100),\n",
    "    \"Date\": random_dates(d1, d2),\n",
    "    \"Time\": np.random.randint(1, 9, size=100),\n",
    "    \"Hourly_Wage\": np.random.randint(10, 101, size=100)\n",
    "}\n",
    "\n",
    "df = pd.DataFrame(data=data)\n",
    "df.loc[np.random.randint(0, 100, size=5), \"ID\"] = np.nan\n",
    "df.loc[np.random.randint(0, 100, size=7), \"Date\"] = np.nan\n",
    "df.loc[np.random.randint(0, 100, size=int(0.3*df.shape[0])), \"Time\"] = np.nan\n",
    "df.loc[np.random.randint(0, 100, size=int(0.25*df.shape[0])), \"Hourly_Wage\"] = np.nan\n",
    "\n",
    "df.to_excel('data.xlsx', sheet_name='sheetOne', index=False)"
   ]
  }
 ],
 "metadata": {
  "interpreter": {
   "hash": "b9093a1ddd1e5a1702194cb97bbe1c4516ab068916d9c0e38046918de0d5914d"
  },
  "kernelspec": {
   "display_name": "Python 3.9.2 64-bit ('env': venv)",
   "language": "python",
   "name": "python3"
  },
  "language_info": {
   "codemirror_mode": {
    "name": "ipython",
    "version": 3
   },
   "file_extension": ".py",
   "mimetype": "text/x-python",
   "name": "python",
   "nbconvert_exporter": "python",
   "pygments_lexer": "ipython3",
   "version": "3.9.2"
  },
  "orig_nbformat": 4
 },
 "nbformat": 4,
 "nbformat_minor": 2
}
