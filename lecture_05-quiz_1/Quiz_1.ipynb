{
 "cells": [
  {
   "cell_type": "markdown",
   "metadata": {},
   "source": [
    "# Quiz 1"
   ]
  },
  {
   "cell_type": "code",
   "execution_count": 2,
   "metadata": {},
   "outputs": [],
   "source": [
    "import random"
   ]
  },
  {
   "cell_type": "markdown",
   "metadata": {},
   "source": [
    "#### Task 1"
   ]
  },
  {
   "cell_type": "code",
   "execution_count": 48,
   "metadata": {},
   "outputs": [
    {
     "name": "stdout",
     "output_type": "stream",
     "text": [
      "{26: 8, 81: 9, 25: 7, 28: 10, 14: 5, 11: 2, 90: 9, 49: 13, 27: 9, 61: 7, 100: 1, 30: 3, 33: 6, 84: 12, 78: 15, 7: 7, 86: 14, 2: 2, 96: 15, 98: 17, 79: 16, 1: 1, 12: 3, 54: 9, 21: 3, 63: 9, 36: 9, 47: 11, 89: 17, 51: 6, 59: 14, 40: 4, 44: 8, 18: 9, 17: 8, 10: 1, 72: 9, 6: 6, 52: 7, 4: 4, 60: 6, 94: 13, 73: 10, 68: 14, 83: 11, 82: 10, 37: 10, 67: 13, 87: 15, 15: 6, 80: 8, 69: 15, 71: 8, 99: 18, 39: 12, 19: 10, 64: 10, 70: 7, 31: 4, 77: 14, 41: 5, 45: 9, 74: 11, 92: 11, 93: 12, 29: 11, 66: 12, 35: 8, 24: 6, 75: 12, 53: 8, 43: 7, 3: 3, 38: 11, 23: 5, 32: 5, 76: 13, 62: 8, 46: 10, 34: 7, 42: 6, 97: 16, 48: 12, 95: 14, 58: 13, 50: 5, 13: 4, 20: 2, 8: 8, 16: 7, 55: 10, 57: 12, 9: 9, 65: 11, 56: 11, 85: 13, 5: 5, 88: 16, 22: 4, 91: 10}\n",
      "18\n"
     ]
    }
   ],
   "source": [
    "def sum_of_digits(n):\n",
    "    result = 0\n",
    "    while(n != 0):\n",
    "        result += (n%10)\n",
    "        n //= 10\n",
    "    return result\n",
    "\n",
    "NUMS = 100\n",
    "d = dict()\n",
    "k = random.sample(range(1, NUMS+1), NUMS)\n",
    "for i in range(NUMS):\n",
    "    d[k[i]] = sum_of_digits(k[i])\n",
    "\n",
    "print(d)\n",
    "print(max(d.values()))"
   ]
  },
  {
   "cell_type": "markdown",
   "metadata": {},
   "source": [
    "#### Task 2"
   ]
  },
  {
   "cell_type": "code",
   "execution_count": 38,
   "metadata": {},
   "outputs": [
    {
     "name": "stdout",
     "output_type": "stream",
     "text": [
      "ყველაზე მეტჯერ გვხვდება 5\n",
      "5 რიცხვი გვხვდება 4 ჯერ\n",
      "6 რიცხვი გვხვდება 4 ჯერ\n",
      "8 რიცხვი გვხვდება 2 ჯერ\n",
      "10 რიცხვი გვხვდება 3 ჯერ\n",
      "11 რიცხვი გვხვდება 1 ჯერ\n",
      "12 რიცხვი გვხვდება 3 ჯერ\n",
      "14 რიცხვი გვხვდება 2 ჯერ\n",
      "15 რიცხვი გვხვდება 1 ჯერ\n"
     ]
    }
   ],
   "source": [
    "l = [random.randint(5, 15) for _ in range(20)]\n",
    "print(f\"ყველაზე მეტჯერ გვხვდება {max(set(l), key=l.count)}\")\n",
    "for e in set(l):\n",
    "    print(f\"{e} რიცხვი გვხვდება {l.count(e)} ჯერ\")"
   ]
  },
  {
   "cell_type": "markdown",
   "metadata": {},
   "source": [
    "#### Task 3"
   ]
  },
  {
   "cell_type": "code",
   "execution_count": 102,
   "metadata": {},
   "outputs": [
    {
     "name": "stdout",
     "output_type": "stream",
     "text": [
      "['ჩგქრჰჰშნრზრ', 'წქნღნ', 'ნფულირრცშზტ']\n",
      "{'ჩგქრჰჰშნრზრ': 0, 'წქნღნ': 0, 'ნფულირრცშზტ': 2}\n",
      "ყველაზე მეტი ხმოვანი გვხვდება: ნფულირრცშზტ, "
     ]
    }
   ],
   "source": [
    "alphabet = 'აბგდევზთიკლმნოპჟრსტუფქღყშჩცძწჭხჯჰ'\n",
    "words = []\n",
    "\n",
    "for _ in range(3):\n",
    "    w = [alphabet[random.randint(0, len(alphabet)-1)] for i in range(random.randint(5, 15))]\n",
    "    words.append(''.join(w))\n",
    "\n",
    "print(words)\n",
    "vowel_counts = {}\n",
    "for word in words:\n",
    "    vowel_counts[word] = sum(map(word.count, 'აეიოუ'))\n",
    "\n",
    "print(vowel_counts)\n",
    "\n",
    "max_vowels = max(vowel_counts.values())\n",
    "print(\"ყველაზე მეტი ხმოვანი გვხვდება: \", end=\"\")\n",
    "for k, v in vowel_counts.items():\n",
    "    if v == max_vowels:\n",
    "        print(k, end=\", \")\n",
    "\n",
    "# print(f\"ყველაზე მეტი ხმოვანი გვხვდება: {max(words, key=lambda x: sum(1 for c in x if c in 'აეიოუ'))}\")"
   ]
  }
 ],
 "metadata": {
  "interpreter": {
   "hash": "b9093a1ddd1e5a1702194cb97bbe1c4516ab068916d9c0e38046918de0d5914d"
  },
  "kernelspec": {
   "display_name": "Python 3.9.2 64-bit ('env': venv)",
   "name": "python3"
  },
  "language_info": {
   "codemirror_mode": {
    "name": "ipython",
    "version": 3
   },
   "file_extension": ".py",
   "mimetype": "text/x-python",
   "name": "python",
   "nbconvert_exporter": "python",
   "pygments_lexer": "ipython3",
   "version": "3.9.2"
  },
  "orig_nbformat": 4
 },
 "nbformat": 4,
 "nbformat_minor": 2
}
