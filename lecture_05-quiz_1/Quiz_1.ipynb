{
 "cells": [
  {
   "cell_type": "markdown",
   "metadata": {},
   "source": [
    "# Quiz 1"
   ]
  },
  {
   "cell_type": "code",
   "execution_count": 1,
   "metadata": {},
   "outputs": [],
   "source": [
    "import random"
   ]
  },
  {
   "cell_type": "markdown",
   "metadata": {},
   "source": [
    "#### Task 1"
   ]
  },
  {
   "cell_type": "code",
   "execution_count": 5,
   "metadata": {},
   "outputs": [
    {
     "name": "stdout",
     "output_type": "stream",
     "text": [
      "{67: 13, 76: 13, 39: 12, 22: 4, 51: 6, 19: 10, 27: 9, 43: 7, 98: 17, 30: 3}\n",
      "17\n"
     ]
    }
   ],
   "source": [
    "def sum_of_digits(n):\n",
    "    result = 0\n",
    "    while(n != 0):\n",
    "        result += (n%10)\n",
    "        n //= 10\n",
    "    return result\n",
    "\n",
    "\n",
    "d = dict()\n",
    "for _ in range(10):\n",
    "    k = random.randint(1, 100)\n",
    "    d[k] = sum_of_digits(k)\n",
    "\n",
    "print(d)\n",
    "print(max(d.values()))"
   ]
  },
  {
   "cell_type": "markdown",
   "metadata": {},
   "source": [
    "#### Task 2"
   ]
  },
  {
   "cell_type": "code",
   "execution_count": 8,
   "metadata": {},
   "outputs": [
    {
     "name": "stdout",
     "output_type": "stream",
     "text": [
      "ყველაზე მეტჯერ გვხვდება 5\n",
      "5 რიცხვი გვხვდება 5 ჯერ\n",
      "6 რიცხვი გვხვდება 2 ჯერ\n",
      "7 რიცხვი გვხვდება 1 ჯერ\n",
      "8 რიცხვი გვხვდება 2 ჯერ\n",
      "10 რიცხვი გვხვდება 2 ჯერ\n",
      "12 რიცხვი გვხვდება 1 ჯერ\n",
      "13 რიცხვი გვხვდება 5 ჯერ\n",
      "14 რიცხვი გვხვდება 2 ჯერ\n"
     ]
    }
   ],
   "source": [
    "l = [random.randint(5, 15) for _ in range(20)]\n",
    "print(f\"ყველაზე მეტჯერ გვხვდება {max(set(l), key=l.count)}\")\n",
    "for e in set(l):\n",
    "    print(f\"{e} რიცხვი გვხვდება {l.count(e)} ჯერ\")"
   ]
  },
  {
   "cell_type": "markdown",
   "metadata": {},
   "source": [
    "#### Task 3"
   ]
  },
  {
   "cell_type": "code",
   "execution_count": 29,
   "metadata": {},
   "outputs": [
    {
     "name": "stdout",
     "output_type": "stream",
     "text": [
      "['წჟკტწქჯს', 'ჩმფცუო', 'მჭცპღძმ', 'ჯჩაწვ', 'ძჭმფვქმფღკთლნ', 'ოჟოჰჰჟდმ', 'სცვპნწკზკქღფკ', 'გნზწეაწმეგთტ', 'ძზნოდჯჟად', 'დჰიტბშწგვ', 'ოცფჭთფ', 'ნაჟჟბჟუტქატჯბ', 'თრიზბჟნ', 'ნლტჟეგლხჯხვ', 'ცჰნდქპხ', 'ზჯპჩცპგვთცპფ', 'ძჰცლვშქგ', 'პჟჯნხირპვნკ', 'პჩჭქფასვტ', 'ნპვრტ']\n",
      "ყველაზე მეტი ხმოვანი გვხვდება: წჟკტწქჯს\n"
     ]
    }
   ],
   "source": [
    "alphabet = 'აბგდევზთიკლმნოპჟრსტუფქღყშჩცძწჭხჯჰ'\n",
    "words = []\n",
    "for _ in range(20):\n",
    "    words.append(''.join([alphabet[random.randint(0, len(alphabet)-1)] for i in range(random.randint(5, 15))]))\n",
    "\n",
    "print(words)\n",
    "print(f\"ყველაზე მეტი ხმოვანი გვხვდება: {max(words, key=lambda x: sum(1 for c in words if c in 'აეიოუ'))}\")"
   ]
  }
 ],
 "metadata": {
  "interpreter": {
   "hash": "b9093a1ddd1e5a1702194cb97bbe1c4516ab068916d9c0e38046918de0d5914d"
  },
  "kernelspec": {
   "display_name": "Python 3.9.2 64-bit ('env': venv)",
   "name": "python3"
  },
  "language_info": {
   "codemirror_mode": {
    "name": "ipython",
    "version": 3
   },
   "file_extension": ".py",
   "mimetype": "text/x-python",
   "name": "python",
   "nbconvert_exporter": "python",
   "pygments_lexer": "ipython3",
   "version": "3.9.2"
  },
  "orig_nbformat": 4
 },
 "nbformat": 4,
 "nbformat_minor": 2
}
