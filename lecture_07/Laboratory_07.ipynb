{
 "cells": [
  {
   "cell_type": "markdown",
   "metadata": {},
   "source": [
    "# Laboratory 7"
   ]
  },
  {
   "cell_type": "markdown",
   "metadata": {},
   "source": [
    "### Imports"
   ]
  },
  {
   "cell_type": "code",
   "execution_count": 2,
   "metadata": {},
   "outputs": [],
   "source": [
    "import numpy as np"
   ]
  },
  {
   "cell_type": "markdown",
   "metadata": {},
   "source": [
    "### Task 1\n",
    "\n",
    "განსაზღვრეთ 36 ელემენტიანი შემთხვევით [0, 100] შუალედიდან მთელ რიცხვთა 1 განზომილებიანი, 2 განზომილებიანი და 3 განზომილებიანი numpy მასივები და დაბეჭდეთ."
   ]
  },
  {
   "cell_type": "code",
   "execution_count": 17,
   "metadata": {},
   "outputs": [
    {
     "name": "stdout",
     "output_type": "stream",
     "text": [
      "[ 21  44   0  50  39  16  23  56  61  52  74  26  68  91  18  96  72  28\n",
      "  53  49  39  60  76  58  21  35  73  33  20  83  18 100  41  62  83  50]\n",
      "[[94 56 40 83 55 73]\n",
      " [34 88 56 73 25 94]\n",
      " [28 70 24 40  2 38]\n",
      " [41 66 31 19 59 18]\n",
      " [44 98 81 66 66  2]\n",
      " [ 6 37 71 48 31  7]]\n",
      "[[[46 17]\n",
      "  [74 83]\n",
      "  [81 76]]\n",
      "\n",
      " [[38 14]\n",
      "  [99 97]\n",
      "  [38 60]]\n",
      "\n",
      " [[17 49]\n",
      "  [61 47]\n",
      "  [98 52]]\n",
      "\n",
      " [[35 76]\n",
      "  [57  2]\n",
      "  [55 12]]\n",
      "\n",
      " [[67 84]\n",
      "  [71 91]\n",
      "  [56 95]]\n",
      "\n",
      " [[47  0]\n",
      "  [91 24]\n",
      "  [13 54]]]\n"
     ]
    }
   ],
   "source": [
    "m1 = np.random.randint(0, 101, size=36)\n",
    "m2 = np.random.randint(0, 101, size=(6, 6))\n",
    "m3 = np.random.randint(0, 101, size=(6, 3, 2))\n",
    "\n",
    "print(m1)\n",
    "print(m2)\n",
    "print(m3)"
   ]
  },
  {
   "cell_type": "markdown",
   "metadata": {},
   "source": [
    "### Task 2\n",
    "\n",
    "განსაზღვრეთ 36 ელემენტიანი შემთხვევით [0, 100] შუალედიდან მთელ რიცხვთა 1 განზომილებიანი მასივი, გადაიყვანეთ ყველა შესაძლო 2 განზომილებიან, 3 განზომილებიან მასივად და დაბეჭდეთ. "
   ]
  },
  {
   "cell_type": "code",
   "execution_count": 44,
   "metadata": {},
   "outputs": [
    {
     "name": "stdout",
     "output_type": "stream",
     "text": [
      "{'2x18': array([[ 95,  38,  81,  83,  44,  17,  17,  37,  17, 100,  22,  22, 100,\n",
      "         53,  55,  43,  15,  95],\n",
      "       [ 49,  92,  71,  70,  48,  73,   4,  97,  38,  29,  59,  12,  68,\n",
      "         10,  23,  82,  85,  72]]), '18x2': array([[ 95,  38],\n",
      "       [ 81,  83],\n",
      "       [ 44,  17],\n",
      "       [ 17,  37],\n",
      "       [ 17, 100],\n",
      "       [ 22,  22],\n",
      "       [100,  53],\n",
      "       [ 55,  43],\n",
      "       [ 15,  95],\n",
      "       [ 49,  92],\n",
      "       [ 71,  70],\n",
      "       [ 48,  73],\n",
      "       [  4,  97],\n",
      "       [ 38,  29],\n",
      "       [ 59,  12],\n",
      "       [ 68,  10],\n",
      "       [ 23,  82],\n",
      "       [ 85,  72]]), '3x12': array([[ 95,  38,  81,  83,  44,  17,  17,  37,  17, 100,  22,  22],\n",
      "       [100,  53,  55,  43,  15,  95,  49,  92,  71,  70,  48,  73],\n",
      "       [  4,  97,  38,  29,  59,  12,  68,  10,  23,  82,  85,  72]]), '12x3': array([[ 95,  38,  81],\n",
      "       [ 83,  44,  17],\n",
      "       [ 17,  37,  17],\n",
      "       [100,  22,  22],\n",
      "       [100,  53,  55],\n",
      "       [ 43,  15,  95],\n",
      "       [ 49,  92,  71],\n",
      "       [ 70,  48,  73],\n",
      "       [  4,  97,  38],\n",
      "       [ 29,  59,  12],\n",
      "       [ 68,  10,  23],\n",
      "       [ 82,  85,  72]]), '4x9': array([[ 95,  38,  81,  83,  44,  17,  17,  37,  17],\n",
      "       [100,  22,  22, 100,  53,  55,  43,  15,  95],\n",
      "       [ 49,  92,  71,  70,  48,  73,   4,  97,  38],\n",
      "       [ 29,  59,  12,  68,  10,  23,  82,  85,  72]]), '9x4': array([[ 95,  38,  81,  83],\n",
      "       [ 44,  17,  17,  37],\n",
      "       [ 17, 100,  22,  22],\n",
      "       [100,  53,  55,  43],\n",
      "       [ 15,  95,  49,  92],\n",
      "       [ 71,  70,  48,  73],\n",
      "       [  4,  97,  38,  29],\n",
      "       [ 59,  12,  68,  10],\n",
      "       [ 23,  82,  85,  72]]), '6x6': array([[ 95,  38,  81,  83,  44,  17],\n",
      "       [ 17,  37,  17, 100,  22,  22],\n",
      "       [100,  53,  55,  43,  15,  95],\n",
      "       [ 49,  92,  71,  70,  48,  73],\n",
      "       [  4,  97,  38,  29,  59,  12],\n",
      "       [ 68,  10,  23,  82,  85,  72]])}\n"
     ]
    }
   ],
   "source": [
    "def find_factors(n: int) -> np.ndarray:\n",
    "    divisors = np.array([], dtype=int)\n",
    "    i = 2\n",
    "    while i <= np.sqrt(n):\n",
    "        if (n % i == 0):\n",
    "            if (n / i == i):\n",
    "                divisors = np.append(divisors,i)\n",
    "            else :\n",
    "                divisors = np.append(divisors, i)\n",
    "                divisors = np.append(divisors, int(n/i))\n",
    "        i+=1\n",
    "    return divisors\n",
    "\n",
    "\n",
    "m = np.random.randint(0, 101, size=36)\n",
    "\n",
    "# all possible 2d arrays from m\n",
    "# {possible dimention: 2d array}\n",
    "d2 = {}\n",
    "for d in find_factors(len(m)):\n",
    "    c = m.reshape(d, int(len(m)/d))\n",
    "    d2[f\"{d}x{int(len(m)/d)}\"] = c\n",
    "\n",
    "\n",
    "# all possible 3d arrays from m\n",
    "# {possible dimention: 3darray}\n",
    "d3 = {}\n"
   ]
  },
  {
   "cell_type": "markdown",
   "metadata": {},
   "source": [
    "### Task 3\n",
    "\n",
    "numpy-ის საშუალებით ააგეთ მიმატება, გამოკლება, გამრავლება, გაყოფის ოპერაციები ორ რიცხვზე. "
   ]
  },
  {
   "cell_type": "code",
   "execution_count": 45,
   "metadata": {},
   "outputs": [
    {
     "name": "stdout",
     "output_type": "stream",
     "text": [
      "1+3 = 4\n",
      "1-3 = -2\n",
      "1x3 = 3\n",
      "1/3 = 0.3333333333333333\n"
     ]
    }
   ],
   "source": [
    "n1 = int(input(\"Number 1: \"))\n",
    "n2 = int(input(\"Number 2: \"))\n",
    "\n",
    "print(f\"{n1}+{n2} = {np.add(n1, n2)}\")\n",
    "print(f\"{n1}-{n2} = {np.subtract(n1, n2)}\")\n",
    "print(f\"{n1}x{n2} = {np.multiply(n1, n2)}\")\n",
    "print(f\"{n1}/{n2} = {np.divide(n1, n2)}\")"
   ]
  },
  {
   "cell_type": "markdown",
   "metadata": {},
   "source": [
    "### Task 4\n",
    "\n",
    "განსაზღვრეთ 36 ელემენტიანი შემთხვევით [0, 100] შუალედიდან მთელ რიცხვთა 1 განზომილებიანი a მასივი, numpy-ის საშუალებით ააგეთ ახალი მასივი, რომელშიდაც შეინახავთ a მასივის ყოველ ელემენტის განაყოფს კლავიატურიდან შეტანილი რიცხვზე. ააგეთ ახალი მასივი, რომელშიდაც შეინახავთ a მასივის ყოველ ელემენტის მთელ განაყოფს კლავიატურიდან შეტანილი რიცხვზე."
   ]
  },
  {
   "cell_type": "code",
   "execution_count": 49,
   "metadata": {},
   "outputs": [
    {
     "name": "stdout",
     "output_type": "stream",
     "text": [
      "[29.         25.33333333 13.33333333 10.33333333 22.33333333 18.33333333\n",
      "  5.33333333  2.66666667  3.         29.33333333  8.66666667  6.\n",
      " 13.          6.         11.33333333 12.66666667 13.66666667 32.66666667\n",
      " 16.         22.         24.66666667 14.33333333 10.66666667 26.66666667\n",
      " 29.66666667  0.         15.33333333 27.33333333 17.66666667 21.\n",
      " 25.66666667 17.          4.66666667  4.66666667 20.         26.        ]\n",
      "\n",
      "[29 25 13 10 22 18  5  2  3 29  8  6 13  6 11 12 13 32 16 22 24 14 10 26\n",
      " 29  0 15 27 17 21 25 17  4  4 20 26]\n"
     ]
    }
   ],
   "source": [
    "a = np.random.randint(0, 101, size=36)\n",
    "n = int(input(\"Enter number: \"))\n",
    "print(a/n)\n",
    "print()\n",
    "print(a//n)"
   ]
  },
  {
   "cell_type": "markdown",
   "metadata": {},
   "source": [
    "### Task 5\n",
    "\n",
    "განსაზღვრეთ 5x3 და 3x2-ზე მასივები, რომლებიც შეავსეთ შემთხვევითი მთელი რიცხვებით [0, 100] შუალედიდან, იპოვეთ პირველის მეორეზე ნამრავლი. "
   ]
  },
  {
   "cell_type": "code",
   "execution_count": 50,
   "metadata": {},
   "outputs": [
    {
     "name": "stdout",
     "output_type": "stream",
     "text": [
      "[[ 7084  6974]\n",
      " [ 7649 12346]\n",
      " [ 5315  6386]\n",
      " [ 8246 12014]\n",
      " [15822 13716]]\n"
     ]
    }
   ],
   "source": [
    "m1 = np.random.randint(0, 101, size=(5, 3))\n",
    "m2 = np.random.randint(0, 101, size=(3, 2))\n",
    "\n",
    "print(m1.dot(m2))"
   ]
  },
  {
   "cell_type": "markdown",
   "metadata": {},
   "source": [
    "### Task 6\n",
    "\n",
    "განსაზღვრეთ 6, 9 და 12 ელემენტიანი შემთხვევით [0, 100] შუალედიდან numpy მასივები და გააერთიანეთ. "
   ]
  },
  {
   "cell_type": "code",
   "execution_count": 75,
   "metadata": {},
   "outputs": [
    {
     "name": "stdout",
     "output_type": "stream",
     "text": [
      "[13 29 21 28 25 96 91 60 67 84 56 26 94 38  8  4 35 20 14 46  8 17 33 84\n",
      " 42  2 89]\n",
      "27\n"
     ]
    }
   ],
   "source": [
    "n = np.concatenate((\n",
    "    np.random.randint(0, 101, size=6),\n",
    "    np.random.randint(0, 101, size=9),\n",
    "    np.random.randint(0, 101, size=12)\n",
    "))\n",
    "\n",
    "print(n)"
   ]
  },
  {
   "cell_type": "markdown",
   "metadata": {},
   "source": [
    "### Task 7\n",
    "\n",
    "განსაზღვრეთ ორი 12 ელემენტიანი შემთხვევით [0, 100] შუალედიდან numpy მასივები, იპოვეთ შიდა, გარე და ჯვარედინი ნამრავლი. "
   ]
  },
  {
   "cell_type": "code",
   "execution_count": 93,
   "metadata": {},
   "outputs": [
    {
     "name": "stdout",
     "output_type": "stream",
     "text": [
      "[32 97 75 48 61 51  7 14 58 72 76 33]\n",
      "[35 54 92 99 15  9 46  4 57 44  0 43]\n",
      "\n",
      "27655\n",
      "[[1120 1728 2944 3168  480  288 1472  128 1824 1408    0 1376]\n",
      " [3395 5238 8924 9603 1455  873 4462  388 5529 4268    0 4171]\n",
      " [2625 4050 6900 7425 1125  675 3450  300 4275 3300    0 3225]\n",
      " [1680 2592 4416 4752  720  432 2208  192 2736 2112    0 2064]\n",
      " [2135 3294 5612 6039  915  549 2806  244 3477 2684    0 2623]\n",
      " [1785 2754 4692 5049  765  459 2346  204 2907 2244    0 2193]\n",
      " [ 245  378  644  693  105   63  322   28  399  308    0  301]\n",
      " [ 490  756 1288 1386  210  126  644   56  798  616    0  602]\n",
      " [2030 3132 5336 5742  870  522 2668  232 3306 2552    0 2494]\n",
      " [2520 3888 6624 7128 1080  648 3312  288 4104 3168    0 3096]\n",
      " [2660 4104 6992 7524 1140  684 3496  304 4332 3344    0 3268]\n",
      " [1155 1782 3036 3267  495  297 1518  132 1881 1452    0 1419]]\n"
     ]
    }
   ],
   "source": [
    "a1 = np.random.randint(0, 100, size=12)\n",
    "a2 = np.random.randint(0, 100, size=12)\n",
    "\n",
    "print(a1)\n",
    "print(a2)\n",
    "print()\n",
    "print(np.inner(a1, a2))\n",
    "print(np.outer(a1, a2))\n",
    "# print(np.cross(a1, a2))"
   ]
  },
  {
   "cell_type": "markdown",
   "metadata": {},
   "source": [
    "### Task 8\n",
    "\n",
    "numpy-ის საშუალებით იპოვეთ შემდეგი მრავალწევრის ფესვები x^2+4x-5;  x^4-2x^3+x^2-4x-5. "
   ]
  },
  {
   "cell_type": "code",
   "execution_count": 108,
   "metadata": {},
   "outputs": [
    {
     "name": "stdout",
     "output_type": "stream",
     "text": [
      "[-5.  1.]\n",
      "[ 2.53494103+0.j          0.12037678+1.59006434j  0.12037678-1.59006434j\n",
      " -0.77569459+0.j        ]\n"
     ]
    }
   ],
   "source": [
    "print(np.roots([1, 4, -5]))\n",
    "print(np.roots([1, -2, 1, -4, -5]))"
   ]
  },
  {
   "cell_type": "markdown",
   "metadata": {},
   "source": [
    "### Task 9\n",
    "\n",
    "numpy-ის საშუალებით იპოვეთ კლავიატურიდან შეტანილი სტრიქონის შესაბამისად მრავალწევრის ფესვები. "
   ]
  },
  {
   "cell_type": "code",
   "execution_count": 151,
   "metadata": {},
   "outputs": [
    {
     "name": "stdout",
     "output_type": "stream",
     "text": [
      " -5x^3 +2x^2 -5x -1\n",
      "[-1, 2, -1, -1]\n",
      "[ 1.23278562+0.79255199j  1.23278562-0.79255199j -0.46557123+0.j        ]\n"
     ]
    }
   ],
   "source": [
    "coeff = []\n",
    "equation = input(\"Enter equation: \").replace(\" \", \"\")\n",
    "equation = equation.replace(\"+\", \" +\").replace(\"-\", \" -\")\n",
    "print(equation)\n",
    "\n",
    "for p in equation.split():\n",
    "    n = p.split('x')[0]\n",
    "    if n == '':\n",
    "        coeff.append(1)\n",
    "    elif n[0] == '-':\n",
    "        if len(n[0]) == 1:\n",
    "            coeff.append(-1)\n",
    "        else:\n",
    "            coeff.append(int(n.removeprefix(\"-\"))*-1)\n",
    "    elif n[0] == '+':\n",
    "        coeff.append(int(n.removeprefix(\"+\")))\n",
    "    else:\n",
    "        coeff.append(int(n))\n",
    "\n",
    "print(coeff)\n",
    "print(np.roots(coeff))"
   ]
  },
  {
   "cell_type": "markdown",
   "metadata": {},
   "source": [
    "### Task 10\n",
    "\n",
    "numpy-ის საშუალებით იპოვეთ შემდეგი მრავალწევრის  x^2 + 4x - 5;  x^4 - 2x^3 + x^2 - 4x - 5. , როცა x=3, 9, 4."
   ]
  },
  {
   "cell_type": "code",
   "execution_count": 118,
   "metadata": {},
   "outputs": [
    {
     "name": "stdout",
     "output_type": "stream",
     "text": [
      "x=3:\n",
      "\tx^2 + 4x - 5 = 16\n",
      "\tx^4 - 2x^3 + x^2 - 4x - 5 = 19\n",
      "x=9:\n",
      "\tx^2 + 4x - 5 = 112\n",
      "\tx^4 - 2x^3 + x^2 - 4x - 5 = 5143\n",
      "x=4:\n",
      "\tx^2 + 4x - 5 = 27\n",
      "\tx^4 - 2x^3 + x^2 - 4x - 5 = 123\n"
     ]
    }
   ],
   "source": [
    "x = [3, 9, 4]\n",
    "p1 = np.poly1d([1, 4, -5])\n",
    "p2 = np.poly1d([1, -2, 1, -4, -5])\n",
    "\n",
    "for xi in x:\n",
    "    print(f\"x={xi}:\")\n",
    "    print(f\"\\tx^2 + 4x - 5 = {p1(xi)}\")\n",
    "    print(f\"\\tx^4 - 2x^3 + x^2 - 4x - 5 = {p2(xi)}\")\n"
   ]
  },
  {
   "cell_type": "markdown",
   "metadata": {},
   "source": [
    "### Task 11\n",
    "\n",
    "numpy-ის საშუალებით იპოვეთ კლავიატურიდან შეტანილი სტრიქონის შესაბამისად მრავალწევრის მნიშვნელობები ასევე კლავიატურიდან შეტანილ რიცხვებში."
   ]
  },
  {
   "cell_type": "code",
   "execution_count": 165,
   "metadata": {},
   "outputs": [
    {
     "name": "stdout",
     "output_type": "stream",
     "text": [
      "x=1:\n",
      "\t -2x^2 +5x -10=-7\n",
      "x=2:\n",
      "\t -2x^2 +5x -10=-8\n",
      "x=3:\n",
      "\t -2x^2 +5x -10=-13\n"
     ]
    }
   ],
   "source": [
    "def get_coeff(equation: str) -> list:\n",
    "    coeff = []\n",
    "    for p in equation.split():\n",
    "        n = p.split('x')[0]\n",
    "        if n == '':\n",
    "            coeff.append(1)\n",
    "        elif n[0] == '-':\n",
    "            if len(n) == 1:\n",
    "                coeff.append(-1)\n",
    "            else:\n",
    "                coeff.append(int(n.removeprefix(\"-\"))*-1)\n",
    "        elif n[0] == '+':\n",
    "            coeff.append(int(n.removeprefix(\"+\")))\n",
    "        else:\n",
    "            coeff.append(int(n))\n",
    "    return coeff\n",
    "\n",
    "\n",
    "equation = input(\"Enter equation: \").replace(\" \", \"\").strip()\n",
    "equation = equation.replace(\"+\", \" +\").replace(\"-\", \" -\")\n",
    "\n",
    "coeff = get_coeff(equation)\n",
    "x = np.array(input(\"Enter points seperated by comma (ex. 1, 2, 3): \").split(', '), dtype=int)\n",
    "p = np.poly1d(coeff)\n",
    "\n",
    "for xi in x:\n",
    "    print(f\"x={xi}:\")\n",
    "    print(f\"\\t{equation}={p(xi)}\")"
   ]
  },
  {
   "cell_type": "markdown",
   "metadata": {},
   "source": [
    "### Task 12\n",
    "\n",
    "numpy-ის საშუალებით იპოვეთ მატრიცის დეტერმინანტი 2, 3, 4, 5 განზომილების შემთხვევაში. "
   ]
  },
  {
   "cell_type": "code",
   "execution_count": 187,
   "metadata": {},
   "outputs": [
    {
     "name": "stdout",
     "output_type": "stream",
     "text": [
      "Matrix: \n",
      "[[11  8]\n",
      " [14  7]]\n",
      "Determinant: -34.99999999999999\n",
      "Matrix: \n",
      "[[ 7  7 13]\n",
      " [12  5  7]\n",
      " [16 11 12]]\n",
      "Determinant: 333.0\n",
      "Matrix: \n",
      "[[16  2 16 12]\n",
      " [16  3 13  8]\n",
      " [ 8  7 13 19]\n",
      " [19 15 13 15]]\n",
      "Determinant: -9.999999999997808\n",
      "Matrix: \n",
      "[[ 8  6  9 13 15]\n",
      " [11  6  4 17  0]\n",
      " [18  0  3  8  1]\n",
      " [ 4 15  6 19 18]\n",
      " [19 16  7  9 19]]\n",
      "Determinant: -185282.00000000003\n"
     ]
    }
   ],
   "source": [
    "d = [2, 3, 4, 5]\n",
    "for di in d:\n",
    "    m = np.random.randint(0, 20, size=(di, di))\n",
    "    print(\"Matrix: \")\n",
    "    print(m)\n",
    "    print(f\"Determinant: {np.linalg.det(m)}\")"
   ]
  },
  {
   "cell_type": "markdown",
   "metadata": {},
   "source": [
    "### Task 13\n",
    "\n",
    "numpy-ის საშუალებით დაშალეთ 4x4-ზე მატრიცა ალგებრულ მინორებად. "
   ]
  },
  {
   "cell_type": "code",
   "execution_count": 198,
   "metadata": {},
   "outputs": [
    {
     "name": "stdout",
     "output_type": "stream",
     "text": [
      "0 0\n",
      "[[1 3 9]\n",
      " [4 7 1]\n",
      " [8 4 6]]\n",
      "\n",
      "0 1\n",
      "[[4 3 9]\n",
      " [9 7 1]\n",
      " [5 4 6]]\n",
      "\n",
      "0 2\n",
      "[[4 1 9]\n",
      " [9 4 1]\n",
      " [5 8 6]]\n",
      "\n",
      "0 3\n",
      "[[4 1 3]\n",
      " [9 4 7]\n",
      " [5 8 4]]\n",
      "\n",
      "1 0\n",
      "[[2 1 2]\n",
      " [4 7 1]\n",
      " [8 4 6]]\n",
      "\n",
      "1 1\n",
      "[[8 1 2]\n",
      " [9 7 1]\n",
      " [5 4 6]]\n",
      "\n",
      "1 2\n",
      "[[8 2 2]\n",
      " [9 4 1]\n",
      " [5 8 6]]\n",
      "\n",
      "1 3\n",
      "[[8 2 1]\n",
      " [9 4 7]\n",
      " [5 8 4]]\n",
      "\n",
      "2 0\n",
      "[[2 1 2]\n",
      " [1 3 9]\n",
      " [8 4 6]]\n",
      "\n",
      "2 1\n",
      "[[8 1 2]\n",
      " [4 3 9]\n",
      " [5 4 6]]\n",
      "\n",
      "2 2\n",
      "[[8 2 2]\n",
      " [4 1 9]\n",
      " [5 8 6]]\n",
      "\n",
      "2 3\n",
      "[[8 2 1]\n",
      " [4 1 3]\n",
      " [5 8 4]]\n",
      "\n",
      "3 0\n",
      "[[2 1 2]\n",
      " [1 3 9]\n",
      " [4 7 1]]\n",
      "\n",
      "3 1\n",
      "[[8 1 2]\n",
      " [4 3 9]\n",
      " [9 7 1]]\n",
      "\n",
      "3 2\n",
      "[[8 2 2]\n",
      " [4 1 9]\n",
      " [9 4 1]]\n",
      "\n",
      "3 3\n",
      "[[8 2 1]\n",
      " [4 1 3]\n",
      " [9 4 7]]\n",
      "\n"
     ]
    }
   ],
   "source": [
    "def minor_matrix(arr, i, j):\n",
    "    return np.delete(np.delete(arr,i,axis=0), j, axis=1)\n",
    "\n",
    "\n",
    "# m = np.random.randint(1, 10, size=(4, 4))\n",
    "m = np.array([\n",
    "    [8, 2, 1, 2],\n",
    "    [4, 1, 3, 9],\n",
    "    [9, 4, 7, 1],\n",
    "    [5, 8, 4, 6]\n",
    "])\n",
    "\n",
    "for i in range(len(m)):\n",
    "    for j in range(len(m[0])):\n",
    "        print(i, j)\n",
    "        print(minor_matrix(m, i, j))\n",
    "        print()"
   ]
  }
 ],
 "metadata": {
  "interpreter": {
   "hash": "b9093a1ddd1e5a1702194cb97bbe1c4516ab068916d9c0e38046918de0d5914d"
  },
  "kernelspec": {
   "display_name": "Python 3.9.2 64-bit ('env': venv)",
   "language": "python",
   "name": "python3"
  },
  "language_info": {
   "codemirror_mode": {
    "name": "ipython",
    "version": 3
   },
   "file_extension": ".py",
   "mimetype": "text/x-python",
   "name": "python",
   "nbconvert_exporter": "python",
   "pygments_lexer": "ipython3",
   "version": "3.9.2"
  },
  "orig_nbformat": 4
 },
 "nbformat": 4,
 "nbformat_minor": 2
}
