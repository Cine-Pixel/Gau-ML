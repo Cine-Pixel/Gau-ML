{
 "cells": [
  {
   "cell_type": "markdown",
   "source": [
    "# Laboratory 1 "
   ],
   "metadata": {}
  },
  {
   "cell_type": "markdown",
   "source": [
    "### Task 2\r\n",
    "დაწერეთ პროგრამა, რომელიც შეყვანილ ათობით რიცხვს გადაიყვანს ორობითში."
   ],
   "metadata": {}
  },
  {
   "cell_type": "code",
   "execution_count": 1,
   "source": [
    "n = int(input(\"Enter number: \"))\r\n",
    "print(f\"Input: {n}\")\r\n",
    "print(f\"Output: {bin(n)[2:]}\")"
   ],
   "outputs": [
    {
     "output_type": "stream",
     "name": "stdout",
     "text": [
      "Input: 10\n",
      "Output: 1010\n"
     ]
    }
   ],
   "metadata": {}
  },
  {
   "cell_type": "markdown",
   "source": [
    "### Task 4\r\n",
    "დაწერეთ პროგრამა, სადაც მომხმარებელი შეიყვანს 3 რიცხვს და პროგრამა დაბეჭდავს რიცხვების საშუალო\r\n",
    "არითმეტიკულს."
   ],
   "metadata": {}
  },
  {
   "cell_type": "code",
   "execution_count": 2,
   "source": [
    "s = 0\r\n",
    "nums = 3\r\n",
    "print(\"Input: \", end=\"\")\r\n",
    "for i in range(nums):\r\n",
    "    n = float(input(f\"Enter number {i+1}\"))\r\n",
    "    print(n, end=\", \")\r\n",
    "    s += n\r\n",
    "\r\n",
    "print(f\"\\nOutput: {s/nums}\")"
   ],
   "outputs": [
    {
     "output_type": "stream",
     "name": "stdout",
     "text": [
      "Input: 6.0, 8.0, 10.0, Output: 8.0\n"
     ]
    }
   ],
   "metadata": {}
  },
  {
   "cell_type": "markdown",
   "source": [
    "### Task 7\r\n",
    "დაწერეთ პროგრამა, რომლის მეშვეობითაც შეიტანთ ნებისმიერ რიცხვს. პროგრამამ შეამოწმოს, თუ შეყვანილი\r\n",
    "რიცხვი 10-ის ჯერადია, დაბეჭდოს “რიცხვი ბოლოვდება 0-ით”, თუ არადა დაბეჭდოს “რიცხვი არ ბოლოვდება 0-ით”.\r\n",
    "(გაითვალისწინეთ: 10-ის ჯერადი ნიშნავს რომ 10-ზე გაყოფისას ნაშთი არის 0)."
   ],
   "metadata": {}
  },
  {
   "cell_type": "code",
   "execution_count": 3,
   "source": [
    "n = int(input(\"Enter number: \"))\r\n",
    "print(f\"Input: {n}\")\r\n",
    "print(\"Output: \", end=\"\")\r\n",
    "if n % 10 == 0:\r\n",
    "    print(\"რიცხვი ბოლოვდება 0-ით\")\r\n",
    "else:\r\n",
    "    print(\"რიცხვი არ ბოლოვდება 0-ით\")"
   ],
   "outputs": [
    {
     "output_type": "stream",
     "name": "stdout",
     "text": [
      "Input: 35\n",
      "Output: რიცხვი არ ბოლოვდება 0-ით\n"
     ]
    }
   ],
   "metadata": {}
  },
  {
   "cell_type": "markdown",
   "source": [
    "### Task 10\r\n",
    "დაწერეთ პროგრამა, რომლის მეშვეობითაც შეიტანთ წელს და დაადგენთ არის თუ არა შეყვანილი რიცხვი ნაკიანი\r\n",
    "წელიწადი. მაგ: 2012, 2016 წლები ნაკიანია. გაითვალისწინეთ, ნაკიანია წელიწადი, რომელიც უნაშთოდ იყოფა\r\n",
    "ოთხზე, გარდა იმ წლებისა რომლებიც იყოფა 100-ზე მაგრამ არ იყოფა 400-ზე. მაგ. 2100, 2200, 2300 წლები არ არის\r\n",
    "ნაკიანი. 2000 წელი ნაკიანია."
   ],
   "metadata": {}
  },
  {
   "cell_type": "code",
   "execution_count": 4,
   "source": [
    "year = int(input(\"Enter year: \"))\r\n",
    "print(f\"Input: {year}\")\r\n",
    "print(\"Output: \", end=\"\")\r\n",
    "if (year % 400 == 0) or (year % 100 != 0) and (year % 4 == 0): \r\n",
    "    print(f\"{year} წელი ნაკიანია\")\r\n",
    "else:\r\n",
    "    print(f\"{year} წელი არ არის ნაკიანი\")"
   ],
   "outputs": [
    {
     "output_type": "stream",
     "name": "stdout",
     "text": [
      "Input: 2012\n",
      "Output: 2012 წელი ნაკიანია\n"
     ]
    }
   ],
   "metadata": {}
  },
  {
   "cell_type": "markdown",
   "source": [
    "### Task 11\r\n",
    "დაბეჭდეთ 5-ის ჯერადი რიცხვები 20-დან 125-ის ჩათვლით."
   ],
   "metadata": {}
  },
  {
   "cell_type": "code",
   "execution_count": 5,
   "source": [
    "print(\"Output: \", end=\"\")\r\n",
    "for n in range(20, 126, 5):\r\n",
    "    print(n, end=\" \")"
   ],
   "outputs": [
    {
     "output_type": "stream",
     "name": "stdout",
     "text": [
      "Output: 20 25 30 35 40 45 50 55 60 65 70 75 80 85 90 95 100 105 110 115 120 125 "
     ]
    }
   ],
   "metadata": {}
  },
  {
   "cell_type": "markdown",
   "source": [
    "### Task 14\r\n",
    "შეიყვანეთ 10 რიცხვი კლავიატურიდან ციკლის გამოყენებით. დაითვალეთ შეყვანილი რიცხვების საშუალო\r\n",
    "არითმეტიკული."
   ],
   "metadata": {}
  },
  {
   "cell_type": "code",
   "execution_count": 16,
   "source": [
    "avg = 0\r\n",
    "total_nums = 10\r\n",
    "print(\"Input: \", end=\"\")\r\n",
    "for i in range(total_nums):\r\n",
    "    n = float(input(f\"Number {i+1}: \"))\r\n",
    "    print(n, end=\", \")\r\n",
    "    avg += n\r\n",
    "avg /= total_nums\r\n",
    "print(f\"\\nOutput: {avg}\")"
   ],
   "outputs": [
    {
     "output_type": "stream",
     "name": "stdout",
     "text": [
      "Input: 1.0, 2.0, 3.0, 4.0, 5.0, 6.0, 7.0, 8.0, 9.0, 10.0, \n",
      "Output: 5.5\n"
     ]
    }
   ],
   "metadata": {}
  },
  {
   "cell_type": "markdown",
   "source": [
    "### Task 21\r\n",
    "შეიყვანეთ 2 დადებითი მთელი რიცხვი. იპოვეთ ამ ორი რიცხვის უდიდესი საერთო გამყოფი."
   ],
   "metadata": {}
  },
  {
   "cell_type": "code",
   "execution_count": 7,
   "source": [
    "def gcd(n1: int, n2: int):\r\n",
    "    while n2:\r\n",
    "        n1, n2 = n2, n1%n2\r\n",
    "    return n1\r\n",
    "\r\n",
    "n1: int = int(input(\"Number 1: \"))\r\n",
    "n2: int = int(input(\"Number 2: \"))\r\n",
    "print(f\"Input: n1={n1}, n2={n2}\")\r\n",
    "print(f\"Output: gcd={gcd(n1, n2)}\")\r\n",
    "# math.gcd(n1, n2)"
   ],
   "outputs": [
    {
     "output_type": "stream",
     "name": "stdout",
     "text": [
      "Input: n1=10, n2=30\n",
      "Output: gcd=10\n"
     ]
    }
   ],
   "metadata": {}
  },
  {
   "cell_type": "markdown",
   "source": [
    "### Task 24\r\n",
    "შეიყვანეთ რიცხვი კლავიატურიდან. პროგრამამ უნდა დაბეჭდოს შეყვანილი რიცხვის ყველა გამყოფი. (მაგ. 18-ის\r\n",
    "გამოყოფებია: 1, 2, 3, 6, 9, 18)"
   ],
   "metadata": {}
  },
  {
   "cell_type": "code",
   "execution_count": 15,
   "source": [
    "def get_divisors(n: int):\r\n",
    "    for i in range(1, int(n ** (1/2))):\r\n",
    "        if n % i == 0:\r\n",
    "            if n/i == i:\r\n",
    "                print(i, end=\", \")\r\n",
    "            else:\r\n",
    "                print(f\"{i}, {int(n/i)}\",end=\", \")\r\n",
    "\r\n",
    "n = int(input(\"Enter number: \"))\r\n",
    "print(f\"Input: {n}\")\r\n",
    "print(\"Output: \", end=\"\")\r\n",
    "get_divisors(n)"
   ],
   "outputs": [
    {
     "output_type": "stream",
     "name": "stdout",
     "text": [
      "Input: 5\n",
      "Output: 1, 5, "
     ]
    }
   ],
   "metadata": {}
  },
  {
   "cell_type": "markdown",
   "source": [
    "### Task 26\r\n",
    "დაბეჭდეთ 2-დან 1000-მდე ყველა მარტივი რიცხვი."
   ],
   "metadata": {}
  },
  {
   "cell_type": "code",
   "execution_count": 9,
   "source": [
    "def is_prime(n):\r\n",
    "    for i in range(2, n):\r\n",
    "        if n%i == 0:\r\n",
    "            return False\r\n",
    "    return True\r\n",
    "\r\n",
    "print(\"Output: \", end=\"\")\r\n",
    "for i in range(2, 1000):\r\n",
    "    if is_prime(i):\r\n",
    "        print(i, end=\" \") "
   ],
   "outputs": [
    {
     "output_type": "stream",
     "name": "stdout",
     "text": [
      "Output: 2 3 5 7 11 13 17 19 23 29 31 37 41 43 47 53 59 61 67 71 73 79 83 89 97 101 103 107 109 113 127 131 137 139 149 151 157 163 167 173 179 181 191 193 197 199 211 223 227 229 233 239 241 251 257 263 269 271 277 281 283 293 307 311 313 317 331 337 347 349 353 359 367 373 379 383 389 397 401 409 419 421 431 433 439 443 449 457 461 463 467 479 487 491 499 503 509 521 523 541 547 557 563 569 571 577 587 593 599 601 607 613 617 619 631 641 643 647 653 659 661 673 677 683 691 701 709 719 727 733 739 743 751 757 761 769 773 787 797 809 811 821 823 827 829 839 853 857 859 863 877 881 883 887 907 911 919 929 937 941 947 953 967 971 977 983 991 997 "
     ]
    }
   ],
   "metadata": {}
  },
  {
   "cell_type": "markdown",
   "source": [
    "### Task 28\r\n",
    "შეიყვანეთ ნებისმიერი რიცხი. იპოვეთ ამ რიცხვის ციფრთა რაოდენობა და დაბეჭდეთ."
   ],
   "metadata": {}
  },
  {
   "cell_type": "code",
   "execution_count": 10,
   "source": [
    "def digit_count(n):\r\n",
    "    if n == 0:\r\n",
    "        return 1\r\n",
    "\r\n",
    "    count = 0\r\n",
    "    while n:\r\n",
    "        n //= 10\r\n",
    "        count += 1\r\n",
    "    return count\r\n",
    "\r\n",
    "n = int(input(\"Number: \"))\r\n",
    "print(f\"Input: {n}\")\r\n",
    "print(f\"Output: {digit_count(n)}\")"
   ],
   "outputs": [
    {
     "output_type": "stream",
     "name": "stdout",
     "text": [
      "Input: 5023\n",
      "Output: 4\n"
     ]
    }
   ],
   "metadata": {}
  },
  {
   "cell_type": "markdown",
   "source": [
    "### Task 31\r\n",
    "შეიყვანეთ ნებისმიერი რიცხი. დაადგინეთ არის თუ არა შეტანილი რიცხვი პალინდრომი. (მითითება: პალინდრომია\r\n",
    "რიცხვი, რომელიც მარჯვნიდან და მარცხნიდან ერთნაირად იკითხება). მაგ. 12521"
   ],
   "metadata": {}
  },
  {
   "cell_type": "code",
   "execution_count": 11,
   "source": [
    "def is_palindrome(n):\r\n",
    "    tmp = n\r\n",
    "    rev_num = 0\r\n",
    "    while tmp:\r\n",
    "        rev_num = (rev_num * 10) + (tmp % 10)\r\n",
    "        tmp //= 10\r\n",
    "    \r\n",
    "    return n == rev_num\r\n",
    "\r\n",
    "n = int(input(\"Number: \"))\r\n",
    "print(f\"Input: {n}\")\r\n",
    "print(f\"Output: {is_palindrome(n)}\")"
   ],
   "outputs": [
    {
     "output_type": "stream",
     "name": "stdout",
     "text": [
      "Input: 945549\n",
      "Output: True\n"
     ]
    }
   ],
   "metadata": {}
  },
  {
   "cell_type": "markdown",
   "source": [
    "### Task 32\r\n",
    "შეიყვანეთ რიცხვი. დათვალეთ ამ რიცხვის ფაქტორიალი და დაბეჭდეთ. მაგ. 5-ის ფაქტორიალი იგივია რაც 5*4*3*2*1."
   ],
   "metadata": {}
  },
  {
   "cell_type": "code",
   "execution_count": 14,
   "source": [
    "def factorial(n):\r\n",
    "    if n == 1:\r\n",
    "        return n\r\n",
    "    return n*factorial(n-1)\r\n",
    "\r\n",
    "n = int(input(\"Enter Number: \"))\r\n",
    "print(f\"Input: {n}\")\r\n",
    "print(f\"Output: {factorial(n)}\")"
   ],
   "outputs": [
    {
     "output_type": "stream",
     "name": "stdout",
     "text": [
      "Input: 10\n",
      "Output: 3628800\n"
     ]
    }
   ],
   "metadata": {}
  },
  {
   "cell_type": "markdown",
   "source": [
    "### Task 33\r\n",
    "დაწერეთ პროგრამა რომელიც ეკრანზე გამოიტანს შემდეგ გამოსახულებას. მითითება: გამოიყენეთ 2 ჩადგმული for\r\n",
    "ციკლი.\r\n",
    "```sh\r\n",
    "* \r\n",
    "* * \r\n",
    "* * * \r\n",
    "* * * * \r\n",
    "* * * \r\n",
    "* * \r\n",
    "* \r\n",
    "```"
   ],
   "metadata": {}
  },
  {
   "cell_type": "code",
   "execution_count": 13,
   "source": [
    "def print_stars():\r\n",
    "    import math\r\n",
    "\r\n",
    "    rows = 7\r\n",
    "    half = int(math.ceil(rows/2))\r\n",
    "    for i in range(1, half+1):\r\n",
    "        for _ in range(1, i + 1):\r\n",
    "            print(\"*\", end=' ')\r\n",
    "        print()\r\n",
    "\r\n",
    "    for i in range(half, 1, -1):\r\n",
    "        for _ in range(1, i):\r\n",
    "            print(\"*\", end=' ')\r\n",
    "        print()\r\n",
    "\r\n",
    "print(\"Output: \")\r\n",
    "print_stars()"
   ],
   "outputs": [
    {
     "output_type": "stream",
     "name": "stdout",
     "text": [
      "Output: \n",
      "* \n",
      "* * \n",
      "* * * \n",
      "* * * * \n",
      "* * * \n",
      "* * \n",
      "* \n"
     ]
    }
   ],
   "metadata": {}
  }
 ],
 "metadata": {
  "orig_nbformat": 4,
  "language_info": {
   "name": "python",
   "version": "3.9.2",
   "mimetype": "text/x-python",
   "codemirror_mode": {
    "name": "ipython",
    "version": 3
   },
   "pygments_lexer": "ipython3",
   "nbconvert_exporter": "python",
   "file_extension": ".py"
  },
  "kernelspec": {
   "name": "python3",
   "display_name": "Python 3.9.2 64-bit ('env': venv)"
  },
  "interpreter": {
   "hash": "b9093a1ddd1e5a1702194cb97bbe1c4516ab068916d9c0e38046918de0d5914d"
  }
 },
 "nbformat": 4,
 "nbformat_minor": 2
}