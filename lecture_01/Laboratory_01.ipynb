{
 "cells": [
  {
   "cell_type": "markdown",
   "source": [
    "# Laboratory 1 "
   ],
   "metadata": {}
  },
  {
   "cell_type": "markdown",
   "source": [
    "#### Task 2"
   ],
   "metadata": {}
  },
  {
   "cell_type": "code",
   "execution_count": null,
   "source": [
    "n = int(input(\"Enter number: \"))\r\n",
    "print(bin(n)[2:])"
   ],
   "outputs": [],
   "metadata": {}
  },
  {
   "cell_type": "markdown",
   "source": [
    "#### Task 4"
   ],
   "metadata": {}
  },
  {
   "cell_type": "code",
   "execution_count": null,
   "source": [
    "s = 0\r\n",
    "nums = 3\r\n",
    "for i in range(nums):\r\n",
    "    n = float(input(f\"Enter number {i+1}\"))\r\n",
    "    s += n\r\n",
    "print(s/nums)"
   ],
   "outputs": [],
   "metadata": {}
  },
  {
   "cell_type": "markdown",
   "source": [
    "#### Task 7"
   ],
   "metadata": {}
  },
  {
   "cell_type": "code",
   "execution_count": null,
   "source": [
    "n = int(input(\"Enter number: \"))\r\n",
    "if n % 10 == 0:\r\n",
    "    print(\"რიცხვი ბოლოვდება 0-ით\")\r\n",
    "else:\r\n",
    "    print(\"რიცხვი არ ბოლოვდება 0-ით\")"
   ],
   "outputs": [],
   "metadata": {}
  },
  {
   "cell_type": "markdown",
   "source": [
    "#### Task 10"
   ],
   "metadata": {}
  },
  {
   "cell_type": "code",
   "execution_count": null,
   "source": [
    "year = int(input(\"Enter year: \"))\r\n",
    "if (year % 400 == 0) or (year % 100 != 0) and (year % 4 == 0): \r\n",
    "    print(f\"{year} წელი ნაკიანია\")\r\n",
    "else:\r\n",
    "    print(f\"{year} წელი არ არის ნაკიანი\")"
   ],
   "outputs": [],
   "metadata": {}
  },
  {
   "cell_type": "markdown",
   "source": [
    "#### Task 11"
   ],
   "metadata": {}
  },
  {
   "cell_type": "code",
   "execution_count": null,
   "source": [
    "for n in range(20, 126, 5):\r\n",
    "    print(n, end=\" \")"
   ],
   "outputs": [],
   "metadata": {}
  }
 ],
 "metadata": {
  "orig_nbformat": 4,
  "language_info": {
   "name": "python",
   "version": "3.9.2",
   "mimetype": "text/x-python",
   "codemirror_mode": {
    "name": "ipython",
    "version": 3
   },
   "pygments_lexer": "ipython3",
   "nbconvert_exporter": "python",
   "file_extension": ".py"
  },
  "kernelspec": {
   "name": "python3",
   "display_name": "Python 3.9.2 64-bit ('env': venv)"
  },
  "interpreter": {
   "hash": "b9093a1ddd1e5a1702194cb97bbe1c4516ab068916d9c0e38046918de0d5914d"
  }
 },
 "nbformat": 4,
 "nbformat_minor": 2
}