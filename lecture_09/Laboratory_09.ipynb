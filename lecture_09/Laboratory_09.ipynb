{
 "cells": [
  {
   "cell_type": "markdown",
   "metadata": {},
   "source": [
    "# Laboratory 9"
   ]
  },
  {
   "cell_type": "markdown",
   "metadata": {},
   "source": [
    "### Imports"
   ]
  },
  {
   "cell_type": "code",
   "execution_count": null,
   "metadata": {},
   "outputs": [],
   "source": [
    "import random\n",
    "import string\n",
    "import datetime\n",
    "\n",
    "import mysql.connector"
   ]
  },
  {
   "cell_type": "markdown",
   "metadata": {},
   "source": [
    "### Task 1\n",
    "\n",
    "გააკეთეთ myML ბაზა."
   ]
  },
  {
   "cell_type": "code",
   "execution_count": null,
   "metadata": {},
   "outputs": [],
   "source": [
    "mydb = mysql.connector.connect(\n",
    "  host=\"localhost\",\n",
    "  user=\"root\",\n",
    "  password=\"\"\n",
    ")\n",
    "\n",
    "mycursor = mydb.cursor()\n",
    "\n",
    "mycursor.execute(\"CREATE DATABASE myML\")"
   ]
  },
  {
   "cell_type": "code",
   "execution_count": null,
   "metadata": {},
   "outputs": [],
   "source": [
    "mydb = mysql.connector.connect(\n",
    "  host=\"localhost\",\n",
    "  user=\"root\",\n",
    "  password=\"\",\n",
    "  database=\"myml\"\n",
    ")\n",
    "\n",
    "mycursor = mydb.cursor()"
   ]
  },
  {
   "cell_type": "markdown",
   "metadata": {},
   "source": [
    "### Task 2\n",
    "\n",
    "myML ბაზაში დაამატეთ ცხრილი persons განვსაზღვროთ 8 ველი:\n",
    "1) Id [int autoincrement]\n",
    "2) Name [varchar(30)]\n",
    "3) Lastname [varchar(30)]\n",
    "4) Date [data]\n",
    "5) Gender [varchar(20)]\n",
    "6) Nationality[varchar(50)]\n",
    "7) Smoker [varchar(20)]\n",
    "8) Children[int]\n",
    "9) Reg_Date [data]\n",
    "10) Email[varchar(30)]\n",
    "11) Password [varchar(50)]"
   ]
  },
  {
   "cell_type": "code",
   "execution_count": null,
   "metadata": {},
   "outputs": [],
   "source": [
    "sql = \"\"\"\n",
    "CREATE TABLE persons (\n",
    "    id INT AUTO_INCREMENT PRIMARY KEY,\n",
    "    Name VARCHAR(30),\n",
    "    Lastname VARCHAR(30),\n",
    "    Date DATE,\n",
    "    Gender VARCHAR(20),\n",
    "    Nationality VARCHAR(50),\n",
    "    Smoker VARCHAR(20),\n",
    "    Children INT,\n",
    "    Reg_Date DATE,\n",
    "    Email VARCHAR(30),\n",
    "    Password VARCHAR(50)\n",
    ")\n",
    "\"\"\"\n",
    "mycursor.execute(sql)"
   ]
  },
  {
   "cell_type": "markdown",
   "metadata": {},
   "source": [
    "### Task 3\n",
    "\n",
    "persons ცხრილში გააკეთეთ N = 5 000 შემთხვევითი ჩანაწერი ფუნქციის საშუალებით, N წარმოადგენს ფუნქციის\n",
    "პარამეტრს.\n",
    "1) Id - უნიკალური\n",
    "2) Name - შემთხვევითი სტრიქონი , რომელიც შეიცავს 5-დან 20 სიმბოლომდე\n",
    "3) Lastname - შემთხვევითი სტრიქონი , რომელიც შეიცავს 5-დან 20 სიმბოლომდე.\n",
    "4) Date [data] - შემთხვევითი თარიღი 1980-დან 2000 წლამდე ან ცარიელი.\n",
    "5) Gender [varchar(20)] - შემთხვევითი male ან famale ან ცარიელი.\n",
    "6) Nationality[varchar(50)] - შემთხვევით georgian, armenian, azerbaijanian.\n",
    "7) Smoker [varchar(20)] - შემთხვევით yes ან no ან ცარიელი.\n",
    "8) Children[int] - შემთხვევით 1, 2, 3, 4, 5, 6, 7, 8, 9 ან ცარიელი, ან other.\n",
    "9) Reg_Date [data] - შემთხვევითი თარიღი 2018-დან 2020 წლამდე ან ცარიელი.\n",
    "10) Email[varchar(30)] - შემთხვევითი ფოსტა(ბოლოვდება @gmail.com ან @yahoo.com ან @mail.ru) დასაწყისში\n",
    "შეიცავს 5-დან 20 სიმბოლომდე ან ცარიელი.\n",
    "11) Password [varchar(50)] - - შემთხვევითი სტრიქონი, რომელიც მინიმუმ ერთ ციფრს და შედგება 8-დან 20\n",
    "სიმბოლომდე."
   ]
  },
  {
   "cell_type": "code",
   "execution_count": null,
   "metadata": {},
   "outputs": [],
   "source": [
    "mycursor.reset()\n",
    "\n",
    "def random_date():\n",
    "    start = datetime.datetime.strptime(\"01-01-1880\", '%d-%m-%Y')\n",
    "    end = datetime.datetime.strptime('01-01-2000', '%d-%m-%Y')\n",
    "    date = start + datetime.timedelta(seconds=random.randint(0, int((end - start).total_seconds())),)\n",
    "    return date\n",
    "\n",
    "\n",
    "def seed_persons(N = 5):\n",
    "    for _ in range(N):\n",
    "        name = \"\".join(random.choices(string.ascii_letters, k=random.randint(5, 20)))\n",
    "        lastname = \"\".join(random.choices(string.ascii_letters, k=random.randint(5, 20)))\n",
    "        date = random_date()\n",
    "        gender = random.choice([\"female\", \"male\", \"\"])\n",
    "        nationality = random.choice([\"georgian\", \"armenian\", \"azerbaijanian\"])\n",
    "        smoker = random.choice([\"yes\", \"no\", \"\"])\n",
    "        children = random.choice([*range(1, 10), \"\"])\n",
    "        reg_date = random_date()\n",
    "        email = \"\".join(random.choices(string.ascii_letters, k=random.randint(5, 20))) + random.choice([\"@gmail.com\", \"@yahoo.com\", \"@mail.ru\"])\n",
    "        password = \"\".join(random.choices(string.ascii_letters, k=random.randint(8, 15))) + \"\".join(random.choices([\"0\", \"1\", \"2\", \"3\", \"4\", \"5\", \"6\", \"7\", \"8\", \"0\"], k=random.randint(1, 5)))\n",
    "        \n",
    "        sql = \"\"\"INSERT INTO persons \n",
    "                (Name, LastName, Date, Gender, Nationality, Smoker, Children, Reg_Date, Email, Password) \n",
    "                VALUES(%s, %s, %s, %s, %s, %s, %s, %s, %s, %s)\"\"\"\n",
    "        val = (name, lastname, date, gender, nationality, smoker, children, reg_date, email, password)\n",
    "        mycursor.execute(sql, val)\n",
    "        mydb.commit()\n",
    "\n",
    "\n",
    "seed_persons()\n"
   ]
  },
  {
   "cell_type": "markdown",
   "metadata": {},
   "source": [
    "### Task 4\n",
    "\n",
    "დაამუშავეთ persons ცხრილიდან ქვემოთ მოცემული მოთხოვნები, თითოეული მოთხოვნისთვის დაწერეთ ფუნქციები:\n",
    "1) persons ცხრილიდან გამოიტანეთ პირველი 3 ჩანაწერის Date, Reg_Date, Gender ველების მნიშვნელობა.\n",
    "\n",
    "2) persons ცხრილიდან გამოიტანეთ პირველი 2 ჩანაწერის ყველა ველის მნიშვნელობა.\n",
    "3) persons ცხრილიდან გამოიტანეთ იმ ჩანაწერების ყველა ველის მნიშვნელობა რომელთა id&gt;1 და id&lt;4.\n",
    "4) persons ცხრილიდან გამოიტანეთ იმ ჩანაწერების ყველა ველის მნიშვნელობა რომელთა id&lt;2 ან Id&gt;=4.\n",
    "5) persons ცხრილიდან გამოიტანეთ იმ ჩანაწერის ყველა ველის მნიშვნელობა რომლის Date = 1984-07-04.\n",
    "6) persons ცხრილიდან გამოიტანეთ იმ ჩანაწერების ყველა ველის მნიშვნელობა რომელთა Date &gt; 1984-07-04.\n",
    "7) persons ცხრილიდან გამოიტანეთ იმ ჩანაწერების ყველა ველის მნიშვნელობა რომელთა Date &gt; 1990-06-04 და Date &lt;\n",
    "1999-07-04.\n",
    "8) persons ცხრილიდან გამოიტანეთ იმ ჩანაწერების ყველა ველის მნიშვნელობა რომელთა Children=&gt; 3 და Children &lt; =7."
   ]
  },
  {
   "cell_type": "code",
   "execution_count": null,
   "metadata": {},
   "outputs": [],
   "source": [
    "def subtask_1():\n",
    "    sql = \"SELECT Date, Reg_Date, Gender FROM persons LIMIT 3\"\n",
    "    mycursor.execute(sql)\n",
    "    persons = mycursor.fetchall()\n",
    "    return persons\n",
    "\n",
    "\n",
    "def subtask_2():\n",
    "    sql = \"SELECT * FROM persons LIMIT 2\"\n",
    "    mycursor.execute(sql)\n",
    "    persons = mycursor.fetchall()\n",
    "    return persons\n",
    "\n",
    "\n",
    "def subtask_3():\n",
    "    sql = \"SELECT * FROM persons WHERE id>1 AND id<4\"\n",
    "    mycursor.execute(sql)\n",
    "    persons = mycursor.fetchall()\n",
    "    return persons\n",
    "\n",
    "\n",
    "def subtask_4():\n",
    "    sql = \"SELECT * FROM persons WHERE id<2 OR id>=4\"\n",
    "    mycursor.execute(sql)\n",
    "    persons = mycursor.fetchall()\n",
    "    return persons\n",
    "\n",
    "\n",
    "def subtask_5():\n",
    "    sql = \"SELECT * FROM persons WHERE Date='1984-07-04'\"\n",
    "    mycursor.execute(sql)\n",
    "    persons = mycursor.fetchall()\n",
    "    return persons\n",
    "\n",
    "def subtask_6():\n",
    "    sql = \"SELECT * FROM persons WHERE Date='1984-07-04'\"\n",
    "    mycursor.execute(sql)\n",
    "    persons = mycursor.fetchall()\n",
    "    return persons\n",
    "\n",
    "\n",
    "def subtask_7():\n",
    "    sql = \"SELECT * FROM persons WHERE Date>'1990-06-04' AND Date<'1999-07-04'\"\n",
    "    mycursor.execute(sql)\n",
    "    persons = mycursor.fetchall()\n",
    "    return persons\n",
    "\n",
    "\n",
    "def subtask_8():\n",
    "    sql = \"SELECT * FROM persons WHERE Children>=3 AND Children<=7\"\n",
    "    mycursor.execute(sql)\n",
    "    persons = mycursor.fetchall()\n",
    "    return persons"
   ]
  }
 ],
 "metadata": {
  "interpreter": {
   "hash": "b9093a1ddd1e5a1702194cb97bbe1c4516ab068916d9c0e38046918de0d5914d"
  },
  "kernelspec": {
   "display_name": "Python 3.9.2 64-bit ('env': venv)",
   "language": "python",
   "name": "python3"
  },
  "language_info": {
   "codemirror_mode": {
    "name": "ipython",
    "version": 3
   },
   "file_extension": ".py",
   "mimetype": "text/x-python",
   "name": "python",
   "nbconvert_exporter": "python",
   "pygments_lexer": "ipython3",
   "version": "3.9.2"
  },
  "orig_nbformat": 4
 },
 "nbformat": 4,
 "nbformat_minor": 2
}
