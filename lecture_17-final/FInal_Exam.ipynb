{
 "cells": [
  {
   "cell_type": "markdown",
   "metadata": {},
   "source": [
    "დავუშვათ მაღაზია ყიდის 70 განსხვავებული სახეობის კონდენციონერს.\n",
    "ააგეთ ექსელის ცხრილი cond.xlsx.\n",
    "\n",
    "ექსელში sheet1-ში ჩაწერეთ შემდეგი მონაცემები:\n",
    "\n",
    "შენიშნვა: ექსელში იქნება 70*30=2100 ჩანაწერი, კონდენციონერის მონაცემები უნდა ჩაიწეროს შემთხვევითობის პრინციპით,\n",
    "შესაბამისად არასწორი იქნება თუ პირველი 30 ჩანაწერი იქნება ერთი დასახელების კონდენციონერისთვის, შემდეგი 30 ჩანაწერი\n",
    "მეორე დასახელების კონდენციონერისთვის და ა.შ."
   ]
  },
  {
   "cell_type": "code",
   "execution_count": 142,
   "metadata": {},
   "outputs": [],
   "source": [
    "import numpy as np\n",
    "import pandas as pd\n",
    "import matplotlib.pyplot as plt\n",
    "from sklearn.linear_model import LinearRegression\n",
    "from sklearn.model_selection import cross_val_score\n",
    "\n",
    "import string\n",
    "import random"
   ]
  },
  {
   "cell_type": "markdown",
   "metadata": {},
   "source": [
    "### Task 1\n",
    "\n",
    "კონდენციონერის მოდელი წარმოადგენს 5-დან 10 სიმბოლომდე შემდგარ შემთხვევით დიდი ინგლისური ასოებისაგან შემდგარ ნაკრებს, გაითვალისწინეთ მხოლოდ 70 განსხვავებული მოდელია წარმოდგენილი, თითოეულისთვის კეთდება 30 ჩანაწერი, ერთნაირი მოდელის კონდენციონერებს განსხვავებული შტრიხკოდები აქვთ."
   ]
  },
  {
   "cell_type": "code",
   "execution_count": 80,
   "metadata": {},
   "outputs": [],
   "source": [
    "# task 1\n",
    "models = []\n",
    "while len(models) < 70:\n",
    "    model = ''.join(random.choices(string.ascii_uppercase, k=11))\n",
    "    if model not in models:\n",
    "        models.append(model)\n",
    "models = models * 30\n",
    "random.shuffle(models)"
   ]
  },
  {
   "cell_type": "markdown",
   "metadata": {},
   "source": [
    "### Task 2\n",
    "\n",
    "კონდენციონერის შტრიხ კოდი წარმოადგენს თერთმეტნიშნა განსხვავებულ შემთხვევით ციფრებს"
   ]
  },
  {
   "cell_type": "code",
   "execution_count": null,
   "metadata": {},
   "outputs": [],
   "source": [
    "codes = []\n",
    "while len(codes) < 30*70:\n",
    "    code = ''.join(random.choices(string.digits, k=11))\n",
    "    if code not in codes:\n",
    "        codes.append(code)"
   ]
  },
  {
   "cell_type": "markdown",
   "metadata": {},
   "source": [
    "### Task 3\n",
    "\n",
    "კონდენციონერის ფასი წარმოადგენს [500; 5000] შუალედში შემთხვევით მთელ რიცხვს."
   ]
  },
  {
   "cell_type": "code",
   "execution_count": null,
   "metadata": {},
   "outputs": [],
   "source": [
    "prices = [random.randint(500, 5000) for _ in range(30*70)]"
   ]
  },
  {
   "cell_type": "markdown",
   "metadata": {},
   "source": [
    "### Task 4\n",
    "\n",
    "დღის განმავლობაში გაყიდული კონდენციონერების რაოდენობა, წარმოადგენს [0; 50] შუალედიდან შემთხვევით რიცხვს. დააგენერირეთ ერთი თვის (30 დღის) ჩანაწერი თითეული მოდელის კონდენციონერისთვის"
   ]
  },
  {
   "cell_type": "code",
   "execution_count": null,
   "metadata": {},
   "outputs": [],
   "source": [
    "sales = np.random.randint(0, 50, size=(30, 30*70))"
   ]
  },
  {
   "cell_type": "code",
   "execution_count": 81,
   "metadata": {},
   "outputs": [],
   "source": [
    "data = {\n",
    "    \"model\": models,\n",
    "    \"code\": codes,\n",
    "    \"price\": prices \n",
    "}\n",
    "\n",
    "for i in range(len(sales)):\n",
    "    data[f\"day{i+1}\"] = sales[i]"
   ]
  },
  {
   "cell_type": "code",
   "execution_count": 84,
   "metadata": {},
   "outputs": [],
   "source": [
    "df = pd.DataFrame(data)\n",
    "\n",
    "writer = pd.ExcelWriter(\"cond.xlsx\", engine = 'xlsxwriter')\n",
    "df.to_excel(writer, sheet_name=\"sheet1\", index=False)"
   ]
  },
  {
   "cell_type": "markdown",
   "metadata": {},
   "source": [
    "### Task 5\n",
    "\n",
    "ჩაწერეთ ექსელის sheet2-ში იმ კონდენციონერების მონაცემები რომელთა ფასი ფასთა საშუალო მაჩვენებეზე მეტია"
   ]
  },
  {
   "cell_type": "code",
   "execution_count": 87,
   "metadata": {},
   "outputs": [],
   "source": [
    "new_df = df[df.price > df.price.mean()]\n",
    "new_df.to_excel(writer, sheet_name=\"sheet2\", index=False)"
   ]
  },
  {
   "cell_type": "markdown",
   "metadata": {},
   "source": [
    "### Task 6\n",
    "\n",
    "ერთ თვის განმავლობაში გაყიდული კონდენციონერების რაოდენობებისთვის ააგეთ წერტილოვანი დიაგრამა."
   ]
  },
  {
   "cell_type": "code",
   "execution_count": 104,
   "metadata": {},
   "outputs": [
    {
     "data": {
      "text/plain": [
       "Text(0, 0.5, 'Sales for day')"
      ]
     },
     "execution_count": 104,
     "metadata": {},
     "output_type": "execute_result"
    },
    {
     "data": {
      "image/png": "[encoded data removed]",
      "text/plain": [
       "<Figure size 720x432 with 1 Axes>"
      ]
     },
     "metadata": {
      "needs_background": "light"
     },
     "output_type": "display_data"
    }
   ],
   "source": [
    "plt.figure(figsize=(10, 6))\n",
    "for col in df.iloc[:, 3:].columns:\n",
    "    plt.scatter(col, df.iloc[:, 3:][col].sum())\n",
    "plt.xlabel(\"Day\")\n",
    "plt.ylabel(\"Sales for day\")"
   ]
  },
  {
   "cell_type": "markdown",
   "metadata": {},
   "source": [
    "### Task 7\n",
    "\n",
    "იპოვეთ თვის განმავლობაში გაყიდული კონდენციონერების საშუალო, სტანდარტული გადახრა და ჩაწერეთ sheet3-ში."
   ]
  },
  {
   "cell_type": "code",
   "execution_count": 119,
   "metadata": {},
   "outputs": [],
   "source": [
    "all_sales = np.array(df.iloc[:, 3:]).flatten()\n",
    "summary_data = {\n",
    "    \"mean\": [np.mean(all_sales)],\n",
    "    \"std\": [np.std(all_sales)]\n",
    "}\n",
    "summary_df = pd.DataFrame(summary_data)\n",
    "summary_df.to_excel(writer, sheet_name=\"sheet3\", index=False)\n",
    "writer.save()\n",
    "writer.close()"
   ]
  },
  {
   "cell_type": "markdown",
   "metadata": {},
   "source": [
    "### Task 8\n",
    "\n",
    "გამოთვალეთ 75%-იანი პროცენტილი ყველა კონდენციონერებისთვის გაყიდვების მიხედვით."
   ]
  },
  {
   "cell_type": "code",
   "execution_count": 121,
   "metadata": {},
   "outputs": [
    {
     "name": "stdout",
     "output_type": "stream",
     "text": [
      "37.0\n"
     ]
    }
   ],
   "source": [
    "print(np.percentile(all_sales, 75))"
   ]
  },
  {
   "cell_type": "markdown",
   "metadata": {},
   "source": [
    "### Task 9\n",
    "\n",
    "დაადგინეთ შეიძლება თუ არა გამოყენებული იყოს წრფივი რეგრესიის მოდელი კონდენციონერის ფასსა და გაყიდვების რაოდენობის კავშირის დადგენისა და პროგნოზირებისთვის, ააგეთ შესაბამისი მოდელი ყველა კონდენციონერისთვის."
   ]
  },
  {
   "cell_type": "code",
   "execution_count": 124,
   "metadata": {},
   "outputs": [],
   "source": [
    "df[\"total_sales\"] = df.iloc[:, 3:].sum(axis=1)"
   ]
  },
  {
   "cell_type": "code",
   "execution_count": 128,
   "metadata": {},
   "outputs": [
    {
     "data": {
      "text/plain": [
       "LinearRegression()"
      ]
     },
     "execution_count": 128,
     "metadata": {},
     "output_type": "execute_result"
    }
   ],
   "source": [
    "X = df[\"total_sales\"].to_numpy().reshape(-1, 1)\n",
    "y = df[\"price\"].to_numpy().reshape(-1, 1)\n",
    "\n",
    "reg_model = LinearRegression()\n",
    "reg_model.fit(X, y)"
   ]
  },
  {
   "cell_type": "code",
   "execution_count": 143,
   "metadata": {},
   "outputs": [
    {
     "name": "stdout",
     "output_type": "stream",
     "text": [
      "Coef: [[-0.2169286]]\n",
      "Cross val score: [-0.29260703  0.02857082  0.0729395 ]\n"
     ]
    }
   ],
   "source": [
    "print(f\"Coef: {reg_model.coef_}\")\n",
    "print(f\"Cross val score: {cross_val_score(reg_model, X, y, cv=3)}\")"
   ]
  },
  {
   "cell_type": "code",
   "execution_count": 139,
   "metadata": {},
   "outputs": [
    {
     "name": "stdout",
     "output_type": "stream",
     "text": [
      "Prediction: [[2727.90108506]]\n",
      "Actual price: [2048]\n"
     ]
    }
   ],
   "source": [
    "print(f\"Prediction: {reg_model.predict([X[0]])}\")\n",
    "print(f\"Actual price: {y[0]}\")"
   ]
  },
  {
   "cell_type": "markdown",
   "metadata": {},
   "source": [
    "### Task 10\n",
    "\n",
    "დავალება მეცხრე შეასრულეთ შემთხვევითად შერჩეული, რომელიმე ერთი დასახელების კონდენციონერისთვის."
   ]
  },
  {
   "cell_type": "code",
   "execution_count": 135,
   "metadata": {},
   "outputs": [
    {
     "data": {
      "text/plain": [
       "LinearRegression()"
      ]
     },
     "execution_count": 135,
     "metadata": {},
     "output_type": "execute_result"
    }
   ],
   "source": [
    "random_conditioner = df[df.model == np.random.choice(df[\"model\"])]\n",
    "X2 = random_conditioner[\"total_sales\"].to_numpy().reshape(-1, 1)\n",
    "y2 = random_conditioner[\"price\"].to_numpy().reshape(-1, 1)\n",
    "\n",
    "reg_model2 = LinearRegression()\n",
    "reg_model2.fit(X2, y2)"
   ]
  },
  {
   "cell_type": "code",
   "execution_count": 144,
   "metadata": {},
   "outputs": [
    {
     "name": "stdout",
     "output_type": "stream",
     "text": [
      "Coef: [[-5.33195928]]\n",
      "Cross val score: [-0.29260703  0.02857082  0.0729395 ]\n"
     ]
    }
   ],
   "source": [
    "print(f\"Coef: {reg_model2.coef_}\")\n",
    "print(f\"Cross val score: {cross_val_score(reg_model2, X, y, cv=3)}\")"
   ]
  },
  {
   "cell_type": "code",
   "execution_count": 140,
   "metadata": {},
   "outputs": [
    {
     "name": "stdout",
     "output_type": "stream",
     "text": [
      "Prediction: [[2740.26601517]]\n",
      "Actual price: [4094]\n"
     ]
    }
   ],
   "source": [
    "print(f\"Prediction: {reg_model.predict([X[1]])}\")\n",
    "print(f\"Actual price: {y[1]}\")"
   ]
  }
 ],
 "metadata": {
  "interpreter": {
   "hash": "b9093a1ddd1e5a1702194cb97bbe1c4516ab068916d9c0e38046918de0d5914d"
  },
  "kernelspec": {
   "display_name": "Python 3.9.2 64-bit ('env': venv)",
   "language": "python",
   "name": "python3"
  },
  "language_info": {
   "codemirror_mode": {
    "name": "ipython",
    "version": 3
   },
   "file_extension": ".py",
   "mimetype": "text/x-python",
   "name": "python",
   "nbconvert_exporter": "python",
   "pygments_lexer": "ipython3",
   "version": "3.9.2"
  },
  "orig_nbformat": 4
 },
 "nbformat": 4,
 "nbformat_minor": 2
}
