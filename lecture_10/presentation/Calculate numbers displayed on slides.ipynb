{
 "cells": [
  {
   "cell_type": "code",
   "execution_count": 2,
   "id": "9e733154",
   "metadata": {},
   "outputs": [],
   "source": [
    "import numpy as np\n",
    "import matplotlib.pyplot as plt"
   ]
  },
  {
   "cell_type": "code",
   "execution_count": 7,
   "id": "9cc89255",
   "metadata": {},
   "outputs": [],
   "source": [
    "def sigmoid(z):\n",
    "    return 1 / (1 + np.exp(-z))"
   ]
  },
  {
   "cell_type": "code",
   "execution_count": 171,
   "id": "232c219b",
   "metadata": {},
   "outputs": [],
   "source": [
    "x = np.array([1, 1.5])\n",
    "w1 = 0.3\n",
    "w2 = 0.5\n",
    "b = 0"
   ]
  },
  {
   "cell_type": "code",
   "execution_count": 160,
   "id": "0c9c7765",
   "metadata": {},
   "outputs": [
    {
     "name": "stdout",
     "output_type": "stream",
     "text": [
      "0.006949247806186064\n"
     ]
    }
   ],
   "source": [
    "z = w1*x[0] + w2*x[1] + b\n",
    "a = sigmoid(z)\n",
    "c = (a-1)**2\n",
    "print(c)\n",
    "\n",
    "dc_da = 2*(a-1)\n",
    "da_dz = sigmoid(z) * (1 - sigmoid(z))\n",
    "dz_dw1 = x[0]\n",
    "dz_dw2 = x[1]\n",
    "dz_db = 1\n",
    "\n",
    "w1 = w1 - 0.01 * dc_da * da_dz * dz_dw1\n",
    "w2 = w2 - 0.01 * dc_da * da_dz * dz_dw2\n",
    "b = b - 0.01 *dc_da * da_dz * dz_db\n",
    "\n",
    "z = w1*x[0] + w2*x[1] + b\n",
    "c = (sigmoid(z)-1)**2\n",
    "\n",
    "print(c)"
   ]
  },
  {
   "cell_type": "code",
   "execution_count": 172,
   "id": "23e6de15",
   "metadata": {},
   "outputs": [],
   "source": [
    "z = w1*x[0] + w2*x[1] + b\n",
    "a = sigmoid(z)"
   ]
  },
  {
   "cell_type": "code",
   "execution_count": 173,
   "id": "3250d80c",
   "metadata": {},
   "outputs": [
    {
     "data": {
      "text/plain": [
       "0.06719765289402242"
      ]
     },
     "execution_count": 173,
     "metadata": {},
     "output_type": "execute_result"
    }
   ],
   "source": [
    "c = (a-1)**2\n",
    "c"
   ]
  },
  {
   "cell_type": "code",
   "execution_count": 174,
   "id": "0b5bdc51",
   "metadata": {},
   "outputs": [
    {
     "name": "stdout",
     "output_type": "stream",
     "text": [
      "-0.518450201635692 0.19202744792382356 1.0 1.5 1\n"
     ]
    }
   ],
   "source": [
    "dc_da = 2*(a-1)\n",
    "da_dz = sigmoid(z) * (1 - sigmoid(z))\n",
    "dz_dw1 = x[0]\n",
    "dz_dw2 = x[1]\n",
    "dz_db = 1\n",
    "\n",
    "print(dc_da, da_dz, dz_dw1, dz_dw2, dz_db)"
   ]
  },
  {
   "cell_type": "code",
   "execution_count": 177,
   "id": "030ace53",
   "metadata": {},
   "outputs": [
    {
     "data": {
      "text/plain": [
       "-0.09955666909569368"
      ]
     },
     "execution_count": 177,
     "metadata": {},
     "output_type": "execute_result"
    }
   ],
   "source": [
    "dc_da * da_dz * dz_db"
   ]
  },
  {
   "cell_type": "code",
   "execution_count": 178,
   "id": "d95b58ef",
   "metadata": {},
   "outputs": [],
   "source": [
    "w1_u = w1 - 0.01 * dc_da * da_dz * dz_dw1\n",
    "w2_u = w2 - 0.01 * dc_da * da_dz * dz_dw2\n",
    "b_u = b - 0.01 *dc_da * da_dz * dz_db"
   ]
  },
  {
   "cell_type": "code",
   "execution_count": 179,
   "id": "3208e324",
   "metadata": {},
   "outputs": [
    {
     "data": {
      "text/plain": [
       "(0.30099556669095695, 0.5014933500364354, 0.0009955666909569367)"
      ]
     },
     "execution_count": 179,
     "metadata": {},
     "output_type": "execute_result"
    }
   ],
   "source": [
    "w1_u, w2_u, b_u"
   ]
  },
  {
   "cell_type": "code",
   "execution_count": 180,
   "id": "864a49c0",
   "metadata": {},
   "outputs": [
    {
     "data": {
      "text/plain": [
       "0.06687616463365446"
      ]
     },
     "execution_count": 180,
     "metadata": {},
     "output_type": "execute_result"
    }
   ],
   "source": [
    "z = w1_u*x[0] + w2_u*x[1] + b\n",
    "c = (sigmoid(z)-1)**2\n",
    "c"
   ]
  }
 ],
 "metadata": {
  "kernelspec": {
   "display_name": "Python 3 (ipykernel)",
   "language": "python",
   "name": "python3"
  },
  "language_info": {
   "codemirror_mode": {
    "name": "ipython",
    "version": 3
   },
   "file_extension": ".py",
   "mimetype": "text/x-python",
   "name": "python",
   "nbconvert_exporter": "python",
   "pygments_lexer": "ipython3",
   "version": "3.9.2"
  }
 },
 "nbformat": 4,
 "nbformat_minor": 5
}
