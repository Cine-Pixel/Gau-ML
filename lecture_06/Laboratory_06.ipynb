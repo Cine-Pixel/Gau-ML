{
 "cells": [
  {
   "cell_type": "markdown",
   "metadata": {},
   "source": [
    "# Laboratory 6"
   ]
  },
  {
   "cell_type": "code",
   "execution_count": null,
   "metadata": {},
   "outputs": [],
   "source": [
    "import numpy as np\n",
    "import pandas as pd\n",
    "\n",
    "import string\n",
    "\n",
    "ALPHABET = np.array(list(string.ascii_lowercase + string.ascii_uppercase))"
   ]
  },
  {
   "cell_type": "markdown",
   "metadata": {},
   "source": [
    "### Task 1\n",
    "\n",
    "ჩაწერეთ data.xlsx ექსელის ფაილის „sheetOne“ ფურცელზე 100 მონაცემი (100 სტრიქონი).\n",
    "- პირველ სვეტში ჩაწერეთ ათი სიმბოლოსგან შემდგარი შემთხვევითი სტრიქონი;\n",
    "- მეორე სვეტში ჩაწერეთ შემთხვევითი რიცხვები [0, 10] შუალედიდან;\n",
    "- მესამე სვეტში ჩაწერეთ შემთხვევითი რიცხვები [1, 7] შუალედიდან;\n",
    "- მეოთხე სვეტში ჩაწერეთ შემთხვევითი განსხვავებული რიცხვები [1, 100] შუალედიდან.\n"
   ]
  },
  {
   "cell_type": "code",
   "execution_count": null,
   "metadata": {},
   "outputs": [],
   "source": [
    "dt = {\n",
    "    'rand_string': [''.join(np.random.choice(ALPHABET, size=10)) for _ in range(100)],\n",
    "    'rand_1_10': np.random.randint(0, 11, size=100),\n",
    "    'rand_1_7': np.random.randint(1, 8, size=100),\n",
    "    'rand_unique': np.random.choice(100, size=100, replace=False)\n",
    "}\n",
    "\n",
    "data = pd.DataFrame(data=dt)\n",
    "data.to_excel('datasets/data.xlsx', sheet_name=\"sheetOne\", index=False)"
   ]
  },
  {
   "cell_type": "markdown",
   "metadata": {},
   "source": [
    "### Task 2\n",
    "\n",
    "დაამატეთ data.xlsx ექსელის ფაილის „sheetTwo“ ფურცელზე 50 მონაცემი (50 სტრიქონი).\n",
    "- პირველ სვეტში ჩაწერეთ განსხვავებული რიცხვები [1, 100] შუალედიდან.\n",
    "- მეორე სვეტში ჩაწერეთ შემთხვევით სახელები (სახელი შეარჩიეთ წინასწარ გასზაღვრული მასივიდან);\n",
    "- მესამე სვეტში ჩაწერეთ შემთხვევით გვარები (გვარი შეარჩიეთ წინასწარ გასზაღვრული მასივიდან);\n",
    "- მეოთხე სვეტში ჩაწერეთ შემთხვევითი რიცხვები [2000, 5000] შუალედიდან.\n"
   ]
  },
  {
   "cell_type": "code",
   "execution_count": null,
   "metadata": {},
   "outputs": [],
   "source": [
    "fn = np.array([\"Abraham\", \"George\", \"Richard\", \"John\", \"Franklin\", \"Theodore\"])\n",
    "ln = np.array([\"Lincoln\", \"Washington\", \"Nixon\", \"Adams\", \"Roosevelt\", \"Roosevelt\"])\n",
    "\n",
    "dt = {\n",
    "    'rand_unique': np.random.choice(100, size=50, replace=False),\n",
    "    'first_name': np.random.choice(fn, size=50),\n",
    "    'last_name': np.random.choice(ln, size=50),\n",
    "    'rand_2000_5000': np.random.randint(2000, 5000+1, size=50),\n",
    "}\n",
    "\n",
    "data = pd.DataFrame(data=dt)\n",
    "with pd.ExcelWriter(\"datasets/data.xlsx\", engine=\"openpyxl\", mode=\"a\") as writer:\n",
    "    data.to_excel(writer, sheet_name=\"sheetTwo\", index=False)"
   ]
  },
  {
   "cell_type": "markdown",
   "metadata": {},
   "source": [
    "### Task 3\n",
    "\n",
    "წაიკითხეთ data.xlsx ექსელის ფაილის ყველა ფურცელი და გადაწერეთ მონაცემები datanew.xlsx ფაილში. "
   ]
  },
  {
   "cell_type": "code",
   "execution_count": null,
   "metadata": {},
   "outputs": [],
   "source": [
    "sheet1 = pd.read_excel(\"datasets/data.xlsx\", sheet_name=\"sheetOne\")\n",
    "sheet2 = pd.read_excel(\"datasets/data.xlsx\", sheet_name=\"sheetTwo\")\n",
    "\n",
    "datanew = pd.concat([sheet1, sheet2], axis=1)\n",
    "datanew.to_excel(\"datasets/datanew.xlsx\", index=False)"
   ]
  },
  {
   "cell_type": "markdown",
   "metadata": {},
   "source": [
    "### Task 4\n",
    "\n",
    "წაიკითხეთ data.xlsx ექსელის ფაილის „sheetOne“  ფურცლიდან მონაცემები იპოვეთ პირველ სვეტში ჩაწერილი სტრიქონებიდან რომელი შეიცავს სიმბოლო ‘a’-ის და გადაწერეთ datanew.xlsx ფაილის “sheet3” ფურცელში."
   ]
  },
  {
   "cell_type": "code",
   "execution_count": null,
   "metadata": {},
   "outputs": [],
   "source": [
    "sheet1 = pd.read_excel(\"datasets/data.xlsx\", sheet_name=\"sheetOne\")\n",
    "\n",
    "sheet3 = sheet1[sheet1.rand_string.str.contains('a')]\n",
    "with pd.ExcelWriter(\"datasets/datanew.xlsx\", engine=\"openpyxl\", mode=\"a\") as writer:\n",
    "    sheet3.to_excel(writer, sheet_name=\"sheet3\", index=False)"
   ]
  },
  {
   "cell_type": "markdown",
   "metadata": {},
   "source": [
    "### Task 5\n",
    "\n",
    "data.xlsx ექსელის ფაილის „sheetTwo“  ფურცელიდან წაიკითხეთ მეოთხე სვეტში ჩაწერილი მონაცემები, იპოვეთ ყველაზე დიდი რიცხვების მქონე ჩანაწერები და გადაწერეთ datanew.xlsx ფაილის “sheet4” ფურცელში."
   ]
  },
  {
   "cell_type": "code",
   "execution_count": null,
   "metadata": {},
   "outputs": [],
   "source": [
    "sheet2 = pd.read_excel(\"datasets/data.xlsx\", sheet_name=\"sheetTwo\")"
   ]
  }
 ],
 "metadata": {
  "interpreter": {
   "hash": "b9093a1ddd1e5a1702194cb97bbe1c4516ab068916d9c0e38046918de0d5914d"
  },
  "kernelspec": {
   "display_name": "Python 3.9.2 64-bit ('env': venv)",
   "language": "python",
   "name": "python3"
  },
  "language_info": {
   "codemirror_mode": {
    "name": "ipython",
    "version": 3
   },
   "file_extension": ".py",
   "mimetype": "text/x-python",
   "name": "python",
   "nbconvert_exporter": "python",
   "pygments_lexer": "ipython3",
   "version": "3.9.2"
  },
  "orig_nbformat": 4
 },
 "nbformat": 4,
 "nbformat_minor": 2
}
