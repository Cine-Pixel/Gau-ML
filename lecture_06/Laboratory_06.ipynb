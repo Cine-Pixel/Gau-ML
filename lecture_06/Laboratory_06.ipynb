{
 "cells": [
  {
   "cell_type": "markdown",
   "metadata": {},
   "source": [
    "# Laboratory 6"
   ]
  },
  {
   "cell_type": "code",
   "execution_count": 258,
   "metadata": {},
   "outputs": [],
   "source": [
    "import numpy as np\n",
    "import pandas as pd\n",
    "\n",
    "import string\n",
    "\n",
    "ALPHABET = np.array(list(string.ascii_lowercase + string.ascii_uppercase))"
   ]
  },
  {
   "cell_type": "markdown",
   "metadata": {},
   "source": [
    "### Task 1\n",
    "\n",
    "ჩაწერეთ data.xlsx ექსელის ფაილის „sheetOne“ ფურცელზე 100 მონაცემი (100 სტრიქონი).\n",
    "- პირველ სვეტში ჩაწერეთ ათი სიმბოლოსგან შემდგარი შემთხვევითი სტრიქონი;\n",
    "- მეორე სვეტში ჩაწერეთ შემთხვევითი რიცხვები [0, 10] შუალედიდან;\n",
    "- მესამე სვეტში ჩაწერეთ შემთხვევითი რიცხვები [1, 7] შუალედიდან;\n",
    "- მეოთხე სვეტში ჩაწერეთ შემთხვევითი განსხვავებული რიცხვები [1, 100] შუალედიდან.\n"
   ]
  },
  {
   "cell_type": "code",
   "execution_count": 259,
   "metadata": {},
   "outputs": [],
   "source": [
    "dt = {\n",
    "    'rand_string': [''.join(np.random.choice(ALPHABET, size=10)) for _ in range(100)],\n",
    "    'rand_1_10': np.random.randint(0, 11, size=100),\n",
    "    'rand_1_7': np.random.randint(1, 8, size=100),\n",
    "    'rand_unique': np.random.choice(100, size=100, replace=False)\n",
    "}\n",
    "\n",
    "data = pd.DataFrame(data=dt)\n",
    "data.to_excel('datasets/data.xlsx', sheet_name=\"sheetOne\", index=False)"
   ]
  },
  {
   "cell_type": "markdown",
   "metadata": {},
   "source": [
    "### Task 2\n",
    "\n",
    "დაამატეთ data.xlsx ექსელის ფაილის „sheetTwo“ ფურცელზე 50 მონაცემი (50 სტრიქონი).\n",
    "- პირველ სვეტში ჩაწერეთ განსხვავებული რიცხვები [1, 100] შუალედიდან.\n",
    "- მეორე სვეტში ჩაწერეთ შემთხვევით სახელები (სახელი შეარჩიეთ წინასწარ გასზაღვრული მასივიდან);\n",
    "- მესამე სვეტში ჩაწერეთ შემთხვევით გვარები (გვარი შეარჩიეთ წინასწარ გასზაღვრული მასივიდან);\n",
    "- მეოთხე სვეტში ჩაწერეთ შემთხვევითი რიცხვები [2000, 5000] შუალედიდან.\n"
   ]
  },
  {
   "cell_type": "code",
   "execution_count": 260,
   "metadata": {},
   "outputs": [],
   "source": [
    "fn = np.array([\"Abraham\", \"George\", \"Richard\", \"John\", \"Franklin\", \"Theodore\"])\n",
    "ln = np.array([\"Lincoln\", \"Washington\", \"Nixon\", \"Adams\", \"Roosevelt\", \"Roosevelt\"])\n",
    "\n",
    "dt = {\n",
    "    'rand_unique': np.random.choice(100, size=50, replace=False),\n",
    "    'first_name': np.random.choice(fn, size=50),\n",
    "    'last_name': np.random.choice(ln, size=50),\n",
    "    'rand_2000_5000': np.random.randint(2000, 5000+1, size=50),\n",
    "}\n",
    "\n",
    "data = pd.DataFrame(data=dt)\n",
    "with pd.ExcelWriter(\"datasets/data.xlsx\", engine=\"openpyxl\", mode=\"a\") as writer:\n",
    "    data.to_excel(writer, sheet_name=\"sheetTwo\", index=False)"
   ]
  },
  {
   "cell_type": "markdown",
   "metadata": {},
   "source": [
    "### Task 3\n",
    "\n",
    "წაიკითხეთ data.xlsx ექსელის ფაილის ყველა ფურცელი და გადაწერეთ მონაცემები datanew.xlsx ფაილში. "
   ]
  },
  {
   "cell_type": "code",
   "execution_count": 261,
   "metadata": {},
   "outputs": [],
   "source": [
    "sheet1 = pd.read_excel(\"datasets/data.xlsx\", sheet_name=\"sheetOne\")\n",
    "sheet2 = pd.read_excel(\"datasets/data.xlsx\", sheet_name=\"sheetTwo\")\n",
    "\n",
    "datanew = pd.concat([sheet1, sheet2], axis=1)\n",
    "datanew.to_excel(\"datasets/datanew.xlsx\", index=False)"
   ]
  },
  {
   "cell_type": "markdown",
   "metadata": {},
   "source": [
    "### Task 4\n",
    "\n",
    "წაიკითხეთ data.xlsx ექსელის ფაილის „sheetOne“  ფურცლიდან მონაცემები იპოვეთ პირველ სვეტში ჩაწერილი სტრიქონებიდან რომელი შეიცავს სიმბოლო ‘a’-ის და გადაწერეთ datanew.xlsx ფაილის “sheet3” ფურცელში."
   ]
  },
  {
   "cell_type": "code",
   "execution_count": 262,
   "metadata": {},
   "outputs": [],
   "source": [
    "sheet1 = pd.read_excel(\"datasets/data.xlsx\", sheet_name=\"sheetOne\")\n",
    "\n",
    "sheet3 = sheet1[sheet1.rand_string.str.contains('a')]\n",
    "with pd.ExcelWriter(\"datasets/datanew.xlsx\", engine=\"openpyxl\", mode=\"a\") as writer:\n",
    "    sheet3.to_excel(writer, sheet_name=\"sheet3\", index=False)"
   ]
  },
  {
   "cell_type": "markdown",
   "metadata": {},
   "source": [
    "### Task 5\n",
    "\n",
    "data.xlsx ექსელის ფაილის „sheetTwo“  ფურცელიდან წაიკითხეთ მეოთხე სვეტში ჩაწერილი მონაცემები, იპოვეთ ყველაზე დიდი რიცხვების მქონე ჩანაწერები და გადაწერეთ datanew.xlsx ფაილის “sheet4” ფურცელში."
   ]
  },
  {
   "cell_type": "code",
   "execution_count": 263,
   "metadata": {},
   "outputs": [
    {
     "data": {
      "text/html": [
       "<div>\n",
       "<style scoped>\n",
       "    .dataframe tbody tr th:only-of-type {\n",
       "        vertical-align: middle;\n",
       "    }\n",
       "\n",
       "    .dataframe tbody tr th {\n",
       "        vertical-align: top;\n",
       "    }\n",
       "\n",
       "    .dataframe thead th {\n",
       "        text-align: right;\n",
       "    }\n",
       "</style>\n",
       "<table border=\"1\" class=\"dataframe\">\n",
       "  <thead>\n",
       "    <tr style=\"text-align: right;\">\n",
       "      <th></th>\n",
       "      <th>rand_unique</th>\n",
       "      <th>first_name</th>\n",
       "      <th>last_name</th>\n",
       "      <th>rand_2000_5000</th>\n",
       "    </tr>\n",
       "  </thead>\n",
       "  <tbody>\n",
       "    <tr>\n",
       "      <th>9</th>\n",
       "      <td>46</td>\n",
       "      <td>Richard</td>\n",
       "      <td>Lincoln</td>\n",
       "      <td>4985</td>\n",
       "    </tr>\n",
       "  </tbody>\n",
       "</table>\n",
       "</div>"
      ],
      "text/plain": [
       "   rand_unique first_name last_name  rand_2000_5000\n",
       "9           46    Richard   Lincoln            4985"
      ]
     },
     "execution_count": 263,
     "metadata": {},
     "output_type": "execute_result"
    }
   ],
   "source": [
    "sheet2 = pd.read_excel(\"datasets/data.xlsx\", sheet_name=\"sheetTwo\")\n",
    "sheet2[sheet2[sheet2.columns[3]] == sheet2[sheet2.columns[3]].max()]"
   ]
  },
  {
   "cell_type": "markdown",
   "metadata": {},
   "source": [
    "### Task 6\n",
    "\n",
    "წაიკითხეთ file_example_XLS_1000.xls ფაილიდან მონაცემები, დაბეჭდეთ მონაცემები ID-ის მიხედვით ზრდადობით, იპოვეთ Age-ის მიხედვით საშუალო არითმეტიკული, იპოვეთ საშუალო ასაკი, ასაკების მოდა, მედიანა, ყველაზე მაღალი და ყველაზე დაბალი ასაკის მომხარებელი."
   ]
  },
  {
   "cell_type": "code",
   "execution_count": 264,
   "metadata": {},
   "outputs": [
    {
     "name": "stdout",
     "output_type": "stream",
     "text": [
      "Age mean: 33.26\n",
      "Age mode: 26, 28\n",
      "Age median: 32.0\n",
      "Oldest users: \n",
      "    First Name Last Name  Gender        Country  Age        Date    Id\n",
      "5      Nereida   Magwood  Female  United States   58  16/08/2016  2468\n",
      "55     Nereida   Magwood  Female  United States   58  16/08/2016  2468\n",
      "105    Nereida   Magwood  Female  United States   58  16/08/2016  2468\n",
      "155    Nereida   Magwood  Female  United States   58  16/08/2016  2468\n",
      "205    Nereida   Magwood  Female  United States   58  16/08/2016  2468\n",
      "255    Nereida   Magwood  Female  United States   58  16/08/2016  2468\n",
      "305    Nereida   Magwood  Female  United States   58  16/08/2016  2468\n",
      "355    Nereida   Magwood  Female  United States   58  16/08/2016  2468\n",
      "405    Nereida   Magwood  Female  United States   58  16/08/2016  2468\n",
      "455    Nereida   Magwood  Female  United States   58  16/08/2016  2468\n",
      "505    Nereida   Magwood  Female  United States   58  16/08/2016  2468\n",
      "555    Nereida   Magwood  Female  United States   58  16/08/2016  2468\n",
      "605    Nereida   Magwood  Female  United States   58  16/08/2016  2468\n",
      "655    Nereida   Magwood  Female  United States   58  16/08/2016  2468\n",
      "705    Nereida   Magwood  Female  United States   58  16/08/2016  2468\n",
      "755    Nereida   Magwood  Female  United States   58  16/08/2016  2468\n",
      "805    Nereida   Magwood  Female  United States   58  16/08/2016  2468\n",
      "855    Nereida   Magwood  Female  United States   58  16/08/2016  2468\n",
      "905    Nereida   Magwood  Female  United States   58  16/08/2016  2468\n",
      "955    Nereida   Magwood  Female  United States   58  16/08/2016  2468\n",
      "Youngest users: \n",
      "    First Name Last Name Gender Country  Age        Date    Id\n",
      "25      Lester   Prothro   Male  France   21  15/10/2017  6574\n",
      "75      Lester   Prothro   Male  France   21  15/10/2017  6574\n",
      "125     Lester   Prothro   Male  France   21  15/10/2017  6574\n",
      "175     Lester   Prothro   Male  France   21  15/10/2017  6574\n",
      "225     Lester   Prothro   Male  France   21  15/10/2017  6574\n",
      "275     Lester   Prothro   Male  France   21  15/10/2017  6574\n",
      "325     Lester   Prothro   Male  France   21  15/10/2017  6574\n",
      "375     Lester   Prothro   Male  France   21  15/10/2017  6574\n",
      "425     Lester   Prothro   Male  France   21  15/10/2017  6574\n",
      "475     Lester   Prothro   Male  France   21  15/10/2017  6574\n",
      "525     Lester   Prothro   Male  France   21  15/10/2017  6574\n",
      "575     Lester   Prothro   Male  France   21  15/10/2017  6574\n",
      "625     Lester   Prothro   Male  France   21  15/10/2017  6574\n",
      "675     Lester   Prothro   Male  France   21  15/10/2017  6574\n",
      "725     Lester   Prothro   Male  France   21  15/10/2017  6574\n",
      "775     Lester   Prothro   Male  France   21  15/10/2017  6574\n",
      "825     Lester   Prothro   Male  France   21  15/10/2017  6574\n",
      "875     Lester   Prothro   Male  France   21  15/10/2017  6574\n",
      "925     Lester   Prothro   Male  France   21  15/10/2017  6574\n",
      "975     Lester   Prothro   Male  France   21  15/10/2017  6574\n"
     ]
    }
   ],
   "source": [
    "df = pd.read_excel(\"datasets/file_example_XLSX_1000.xlsx\", index_col=0)\n",
    "df.sort_values(by=['Id'], ascending=False)\n",
    "print(f\"Age mean: {df['Age'].mean()}\")\n",
    "print(f\"Age mode: {', '.join(str(m) for m in df['Age'].mode())}\")\n",
    "print(f\"Age median: {df['Age'].median()}\")\n",
    "print(\"Oldest users: \")\n",
    "print(df[df['Age'] == df['Age'].max()])\n",
    "print(\"Youngest users: \")\n",
    "print(df[df['Age'] == df['Age'].min()])"
   ]
  },
  {
   "cell_type": "markdown",
   "metadata": {},
   "source": [
    "### Task 7\n",
    "\n",
    "წაიკითხეთ staff_1000.xls ფაილიდან მონაცემები გადაწერეთ 30-დან 40 წლამდე პერსონალის მონაცემები ახალ staff_age.xls ფაილში. "
   ]
  },
  {
   "cell_type": "code",
   "execution_count": 265,
   "metadata": {},
   "outputs": [],
   "source": [
    "staff = pd.read_excel(\"datasets/staff_1000.xlsx\", index_col=0)\n",
    "staff_age = staff[(30 <= staff['Age']) | (staff['Age'] < 40)]\n",
    "staff_age.to_excel(\"datasets/staff_age.xlsx\")"
   ]
  }
 ],
 "metadata": {
  "interpreter": {
   "hash": "b9093a1ddd1e5a1702194cb97bbe1c4516ab068916d9c0e38046918de0d5914d"
  },
  "kernelspec": {
   "display_name": "Python 3.9.2 64-bit ('env': venv)",
   "language": "python",
   "name": "python3"
  },
  "language_info": {
   "codemirror_mode": {
    "name": "ipython",
    "version": 3
   },
   "file_extension": ".py",
   "mimetype": "text/x-python",
   "name": "python",
   "nbconvert_exporter": "python",
   "pygments_lexer": "ipython3",
   "version": "3.9.2"
  },
  "orig_nbformat": 4
 },
 "nbformat": 4,
 "nbformat_minor": 2
}
