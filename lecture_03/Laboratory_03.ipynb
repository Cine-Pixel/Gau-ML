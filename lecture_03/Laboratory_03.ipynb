{
 "cells": [
  {
   "cell_type": "markdown",
   "metadata": {},
   "source": [
    "# Laboratory 3"
   ]
  },
  {
   "cell_type": "markdown",
   "metadata": {},
   "source": [
    "### Imports"
   ]
  },
  {
   "cell_type": "code",
   "execution_count": 52,
   "metadata": {},
   "outputs": [],
   "source": [
    "import os\n",
    "import math\n",
    "import random"
   ]
  },
  {
   "cell_type": "markdown",
   "metadata": {},
   "source": [
    "### Task 1\n",
    "მთელი  24, 39, -90 რიცხვები ჩაწერეთ data.txt ფაილში, ფაილი შექმენით  myFiles საქაღალდეში."
   ]
  },
  {
   "cell_type": "code",
   "execution_count": 48,
   "metadata": {},
   "outputs": [],
   "source": [
    "if not os.path.exists(\"myFiles\"):\n",
    "    os.mkdir(\"myFiles\")\n",
    "\n",
    "with open(\"myFiles/data.txt\", \"w\") as f:\n",
    "    f.write(\"24, 39, -90\")"
   ]
  },
  {
   "cell_type": "markdown",
   "metadata": {},
   "source": [
    "### Task 2\n",
    "0-დან 100-მდე მთელი რიცხვები ჩაწერეთ data1.txt ფაილში. myFiles\n",
    "საქაღალდეში."
   ]
  },
  {
   "cell_type": "code",
   "execution_count": 3,
   "metadata": {},
   "outputs": [],
   "source": [
    "if not os.path.exists(\"myFiles\"):\n",
    "    os.mkdir(\"myFiles\")\n",
    "\n",
    "with open(\"myFiles/data1.txt\", \"a\") as f:\n",
    "    for i in range(0, 101):\n",
    "        f.write(f\"{i} \")"
   ]
  },
  {
   "cell_type": "markdown",
   "metadata": {},
   "source": [
    "### Task 3\n",
    "myFiles1 საქაღალდეში საქაღალდეში შექმენით 30 ფაილი,  ფაილებში ჩაწერეთ სიტყვა „Programmer“."
   ]
  },
  {
   "cell_type": "code",
   "execution_count": 50,
   "metadata": {},
   "outputs": [],
   "source": [
    "if not os.path.exists(\"myFiles1\"):\n",
    "    os.mkdir(\"myFiles1\")\n",
    "\n",
    "number_of_files = 3 # 30\n",
    "for i in range(number_of_files):\n",
    "    file_name = f\"file_{i+1}.txt\"\n",
    "    with open(f\"myFiles1/{file_name}\", \"w\") as f:\n",
    "        f.write(\"Programmer\")"
   ]
  },
  {
   "cell_type": "markdown",
   "metadata": {},
   "source": [
    "### Task 4\n",
    "myFiles2 საქაღალდეში შექმენით 30 ფაილი, ფაილებში ჩაწერეთ სიტყვები „Programmer1“, „Programmer2“ .... „Programmer30“."
   ]
  },
  {
   "cell_type": "code",
   "execution_count": 51,
   "metadata": {},
   "outputs": [],
   "source": [
    "if not os.path.exists(\"myFiles2\"):\n",
    "    os.mkdir(\"myFiles2\")\n",
    "\n",
    "number_of_files = 3 # 30\n",
    "for i in range(number_of_files):\n",
    "    file_name = f\"file_{i+1}.txt\"\n",
    "    with open(f\"myFiles2/{file_name}\", \"w\") as f:\n",
    "        f.write(f\"Programmer{i+1}\")"
   ]
  },
  {
   "cell_type": "markdown",
   "metadata": {},
   "source": [
    "### Task 5\n",
    "კლავიატურიდან გადაცემული [a, b] შუალედიდან   ჩაწერეთ data2.txt ფაილში 100 შემთხვევითი მთელი რიცხვი. ფაილი შექმენით  myFiles საქაღალდეში."
   ]
  },
  {
   "cell_type": "code",
   "execution_count": 53,
   "metadata": {},
   "outputs": [],
   "source": [
    "a = int(input(\"Enter a: \"))\n",
    "b = int(input(\"Enter b: \"))\n",
    "\n",
    "nums = [str(random.randint(a, b)) for _ in range(100)]\n",
    "with open(\"myFiles/data2.txt\", \"w\") as f:\n",
    "    f.write(', '.join(nums))"
   ]
  },
  {
   "cell_type": "markdown",
   "metadata": {},
   "source": [
    "### Task 6\n",
    "კლავიატურიდან გადაცემული [a, b] შუალედიდან   დაამატეთ  data3.txt ფაილში 50 შემთხვევითი ნამდვილი რიცხვი.  დამატებული რიცხვები გამოყავით მასში არსებული რიცხვებიდან.  myFiles საქაღალდეში."
   ]
  },
  {
   "cell_type": "code",
   "execution_count": 56,
   "metadata": {},
   "outputs": [],
   "source": [
    "a = int(input(\"Enter a: \"))\n",
    "b = int(input(\"Enter b: \"))\n",
    "\n",
    "nums = [str(random.uniform(a, b)) for _ in range(50)]\n",
    "with open(\"myFiles/data3.txt\", \"w\") as f:\n",
    "    f.write(', '.join(set(nums)))"
   ]
  },
  {
   "cell_type": "markdown",
   "metadata": {},
   "source": [
    "### Task 7\n",
    "დაწერეთ პროგრამა, რომელიცფ y=x^3 + e^x უნქციის მნიშვნელობებს დაითვლის [0; 2] შუალედში მეასედების სიზუსტით და შესაბამის მნიშვნელობებს ჩაწერს function.txt ფაილში myFiles საქაღალდეში."
   ]
  },
  {
   "cell_type": "code",
   "execution_count": 17,
   "metadata": {},
   "outputs": [],
   "source": [
    "def func(x):\n",
    "    return x**3 + math.exp(x)\n",
    "\n",
    "\n",
    "if not os.path.exists(\"myFiles\"):\n",
    "    os.mkdir(\"myFiles\")\n",
    "\n",
    "values = [str(func(round(x * .01, 2))) for x in range(0, 201)] \n",
    "\n",
    "with open(\"myFiles/function.txt\", \"w\") as f:\n",
    "    f.write(', '.join(values))"
   ]
  },
  {
   "cell_type": "markdown",
   "metadata": {},
   "source": [
    "### Task 10\n",
    "შექმენით ლექსიკონი: {0: 10, 1: 20}. დაამატეთ 2 ახალი ელემენტი და დაბეჭდეთ მიღებული ლექსიკონი. (გამოიყენეთ update მეთოდიც). წაშალეთ რომელიმე ელემენტი."
   ]
  },
  {
   "cell_type": "code",
   "execution_count": 21,
   "metadata": {},
   "outputs": [
    {
     "name": "stdout",
     "output_type": "stream",
     "text": [
      "{0: 10, 1: 20, 2: 30, 3: 40}\n",
      "{0: 1, 1: 20, 2: 30, 3: 40}\n",
      "{0: 1, 1: 20, 3: 40}\n"
     ]
    }
   ],
   "source": [
    "d = {0: 10, 1: 20}\n",
    "d[2] = 30\n",
    "d[3] = 40\n",
    "print(d)\n",
    "\n",
    "d.update({0: 1})\n",
    "print(d)\n",
    "\n",
    "d.pop(2)\n",
    "print(d)"
   ]
  },
  {
   "cell_type": "markdown",
   "metadata": {},
   "source": [
    "### Task 12\n",
    "დაწერეთ პროგრამა რომელიც შეამოწმებს რომელიმე key (გასაღები) არის თუ არა ლექსიკონში: d = {1: 10, 2: 20, 3: 30, 4: 40, 5: 50, 6: 60} და დაბეჭდეთ შესაბამისი შეტობინება. (მითითება: გამოიყენეთ in ოპერატორი)."
   ]
  },
  {
   "cell_type": "code",
   "execution_count": 30,
   "metadata": {},
   "outputs": [
    {
     "name": "stdout",
     "output_type": "stream",
     "text": [
      "No\n"
     ]
    }
   ],
   "source": [
    "d = {1: 10, 2: 20, 3: 30, 4: 40, 5: 50, 6: 60}\n",
    "key = int(input(\"Enter key: \"))\n",
    "\n",
    "if key in d:\n",
    "    print(\"Yes\")\n",
    "else:\n",
    "    print(\"No\")"
   ]
  },
  {
   "cell_type": "markdown",
   "metadata": {},
   "source": [
    "### Task 15\n",
    "შექმენით სიმრავლე შემდეგი ელემენტებით: 0, 1, 2, 3, 4. დაამატეთ ნებისმიერ 3 ელემენტი სურვილისამებრ. წაშალეთ ორი ელემენტი სიმრავლიდან. დაბეჭდეთ სიმრავლის ელემენტები ცალ-ცალკე ხაზზე (გამოიყენეთ for ციკლი). დაითვალეთ სიმრავლის ელემენტების რაოდენობა."
   ]
  },
  {
   "cell_type": "code",
   "execution_count": 41,
   "metadata": {},
   "outputs": [
    {
     "name": "stdout",
     "output_type": "stream",
     "text": [
      "Elements: \n",
      "1\n",
      "2\n",
      "3\n",
      "4\n",
      "10\n",
      "30\n",
      "Length: 6\n"
     ]
    }
   ],
   "source": [
    "s = {0, 1, 2, 3, 4}\n",
    "s.add(10)\n",
    "s.add(20)\n",
    "s.add(30)\n",
    "s.remove(0)\n",
    "s.remove(20)\n",
    "\n",
    "print(\"Elements: \")\n",
    "for i in s:\n",
    "    print(i)\n",
    "\n",
    "print(f\"Length: {len(s)}\")"
   ]
  },
  {
   "cell_type": "markdown",
   "metadata": {},
   "source": [
    "### Task 18\n",
    "შექმენით tuple ტიპის ობიექტი, რომლის ელემენტებია 1-დან 100-მდე არსებული 5-ის ჯერადი რიცხვების კუბები. გამოიყენეთ for ციკლის მოკლე ჩაწერის ფორმა. შესაბამისი ფუნქციის გამოყენებით იპოვეთ tuple-ის სიგრძე (ელემენტების რაოდენობა)."
   ]
  },
  {
   "cell_type": "code",
   "execution_count": 47,
   "metadata": {},
   "outputs": [
    {
     "name": "stdout",
     "output_type": "stream",
     "text": [
      "(125, 1000, 3375, 8000, 15625, 27000, 42875, 64000, 91125, 125000, 166375, 216000, 274625, 343000, 421875, 512000, 614125, 729000, 857375, 1000000)\n",
      "Length: 20\n"
     ]
    }
   ],
   "source": [
    "tp = tuple(i**3 for i in range(1, 101) if i%5 == 0)\n",
    "print(tp)\n",
    "print(f\"Length: {len(tp)}\")"
   ]
  }
 ],
 "metadata": {
  "interpreter": {
   "hash": "b9093a1ddd1e5a1702194cb97bbe1c4516ab068916d9c0e38046918de0d5914d"
  },
  "kernelspec": {
   "display_name": "Python 3.9.2 64-bit ('env': venv)",
   "name": "python3"
  },
  "language_info": {
   "codemirror_mode": {
    "name": "ipython",
    "version": 3
   },
   "file_extension": ".py",
   "mimetype": "text/x-python",
   "name": "python",
   "nbconvert_exporter": "python",
   "pygments_lexer": "ipython3",
   "version": "3.9.2"
  },
  "orig_nbformat": 4
 },
 "nbformat": 4,
 "nbformat_minor": 2
}
