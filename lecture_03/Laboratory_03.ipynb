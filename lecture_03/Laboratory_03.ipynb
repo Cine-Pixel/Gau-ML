{
 "cells": [
  {
   "cell_type": "markdown",
   "metadata": {},
   "source": [
    "# Laboratory 3"
   ]
  },
  {
   "cell_type": "markdown",
   "metadata": {},
   "source": [
    "### Imports"
   ]
  },
  {
   "cell_type": "code",
   "execution_count": 2,
   "metadata": {},
   "outputs": [],
   "source": [
    "import os\n",
    "import math"
   ]
  },
  {
   "cell_type": "markdown",
   "metadata": {},
   "source": [
    "### Task 2\n",
    "0-დან 100-მდე მთელი რიცხვები ჩაწერეთ data1.txt ფაილში. myFiles\n",
    "საქაღალდეში."
   ]
  },
  {
   "cell_type": "code",
   "execution_count": 3,
   "metadata": {},
   "outputs": [],
   "source": [
    "if not os.path.exists(\"myFiles\"):\n",
    "    os.mkdir(\"myFiles\")\n",
    "\n",
    "with open(\"myFiles/data1.txt\", \"a\") as f:\n",
    "    for i in range(0, 101):\n",
    "        f.write(f\"{i} \")"
   ]
  },
  {
   "cell_type": "markdown",
   "metadata": {},
   "source": [
    "### Task 4\n",
    "myFiles2 საქაღალდეში შექმენით 30 ფაილი, ფაილებში ჩაწერეთ სიტყვები „Programmer1“, „Programmer2“ .... „Programmer30“."
   ]
  },
  {
   "cell_type": "code",
   "execution_count": 7,
   "metadata": {},
   "outputs": [],
   "source": [
    "if not os.path.exists(\"myFiles2\"):\n",
    "    os.mkdir(\"myFiles2\")\n",
    "\n",
    "for i in range(3):\n",
    "    file_name = f\"file_{i+1}.txt\"\n",
    "    with open(f\"myFiles2/{file_name}\", \"w\") as f:\n",
    "        f.write(f\"Programmer{i+1}\")"
   ]
  },
  {
   "cell_type": "markdown",
   "metadata": {},
   "source": [
    "### Task 7\n",
    "დაწერეთ პროგრამა, რომელიც ფუნქციის მნიშვნელობებს დაითვლის [0; 2 ] შუალედში მეასედების სიზუსტით და შესაბამის მნიშვნელობებს ჩაწერს function.txt ფაილში myFiles საქაღალდეში."
   ]
  },
  {
   "cell_type": "code",
   "execution_count": null,
   "metadata": {},
   "outputs": [],
   "source": [
    "if not os.path.exists(\"myFilese\")"
   ]
  }
 ],
 "metadata": {
  "interpreter": {
   "hash": "b9093a1ddd1e5a1702194cb97bbe1c4516ab068916d9c0e38046918de0d5914d"
  },
  "kernelspec": {
   "display_name": "Python 3.9.2 64-bit ('env': venv)",
   "name": "python3"
  },
  "language_info": {
   "codemirror_mode": {
    "name": "ipython",
    "version": 3
   },
   "file_extension": ".py",
   "mimetype": "text/x-python",
   "name": "python",
   "nbconvert_exporter": "python",
   "pygments_lexer": "ipython3",
   "version": "3.9.2"
  },
  "orig_nbformat": 4
 },
 "nbformat": 4,
 "nbformat_minor": 2
}
