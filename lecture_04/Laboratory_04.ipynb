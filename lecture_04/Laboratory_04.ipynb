{
 "cells": [
  {
   "cell_type": "markdown",
   "metadata": {},
   "source": [
    "# Laboratory 4"
   ]
  },
  {
   "cell_type": "markdown",
   "metadata": {},
   "source": [
    "### Imports"
   ]
  },
  {
   "cell_type": "code",
   "execution_count": 2,
   "metadata": {},
   "outputs": [],
   "source": [
    "import numpy as np"
   ]
  },
  {
   "cell_type": "markdown",
   "metadata": {},
   "source": [
    "### Task 1\n",
    "\n",
    "დაწერეთ პროგრამა რომლის მეშვებით შეიტანთ ნებისმიერ სტრიქონს (input ბრძანების გამოყენებით). დაბეჭდეთ შეყვანილი სტრიოქნის სიგრძე (სიმბოლოების რაოდენობა)."
   ]
  },
  {
   "cell_type": "code",
   "execution_count": 118,
   "metadata": {},
   "outputs": [
    {
     "name": "stdout",
     "output_type": "stream",
     "text": [
      "18\n"
     ]
    }
   ],
   "source": [
    "s = input(\"შეიყვანეთ სტრიქონი: \")\n",
    "print(len(s))"
   ]
  },
  {
   "cell_type": "markdown",
   "metadata": {},
   "source": [
    "### Task 2\n",
    "\n",
    "შეიყვანეთ ნებისმიერი ორი სტრიქონი. ახალ ცვლადში მოახდინეთ მათი შეერთება და დაბეჭდეთ შედეგი."
   ]
  },
  {
   "cell_type": "code",
   "execution_count": 119,
   "metadata": {},
   "outputs": [
    {
     "name": "stdout",
     "output_type": "stream",
     "text": [
      "asdf asdf sda f asdfpwoieurw er\n"
     ]
    }
   ],
   "source": [
    "s1 = input(\"შეიყვანეთ სტრიქონი: \")\n",
    "s2 = input(\"შეიყვანეთ სტრიქონი: \")\n",
    "s3 = s1 + \" \" + s2\n",
    "print(s3)"
   ]
  },
  {
   "cell_type": "markdown",
   "metadata": {},
   "source": [
    "### Task 3\n",
    "\n",
    "შეიყვანეთ სტრიქონი. დაითვალეთ რამდენჯერ შეგხვდათ სიმბოლო “a” დაბეჭდეთ შედეგი."
   ]
  },
  {
   "cell_type": "code",
   "execution_count": 120,
   "metadata": {},
   "outputs": [
    {
     "name": "stdout",
     "output_type": "stream",
     "text": [
      "7\n"
     ]
    }
   ],
   "source": [
    "s = input(\"შეიყვანეთ სტრიქონი: \")\n",
    "print(s.count('a'))"
   ]
  },
  {
   "cell_type": "markdown",
   "metadata": {},
   "source": [
    "### Task 5\n",
    "\n",
    "text ცვლადს მიანიჭეთ სტრიქონი “სწავლის ძირი მწარე არის, კენწეროში გატკბილდების”. სტრიქონიდან წაიკითხეთ პირველი 20 სიმბოლო და დაბეჭდეთ შედეგი. დაითვალეთ რამდენჯერ არის ნახსენები სიმბოლო ‘ს’."
   ]
  },
  {
   "cell_type": "code",
   "execution_count": 121,
   "metadata": {},
   "outputs": [
    {
     "name": "stdout",
     "output_type": "stream",
     "text": [
      "სწავლის ძირი მწარე ა\n",
      "4\n"
     ]
    }
   ],
   "source": [
    "text = \"სწავლის ძირი მწარე არის, კენწეროში გატკბილდების\"\n",
    "print(text[:20])\n",
    "print(text.count('ს'))"
   ]
  },
  {
   "cell_type": "markdown",
   "metadata": {},
   "source": [
    "### Task 11\n",
    "\n",
    "text ცვლადს მიანიჭეთ შემდეგი ტექსტი: “Have a nice day”. დაბეჭდეთ ტექსტის თითოეული სიმბოლო ეკრანზე უკუ მიმართულებით ცალ-ცალკე ხაზზე (ანუ პირველად დაბეჭდავ ბოლო სიმბოლოს, შემდეგ ბოლოს წინა სიმბოლოს, და ა.შ)."
   ]
  },
  {
   "cell_type": "code",
   "execution_count": 125,
   "metadata": {},
   "outputs": [
    {
     "name": "stdout",
     "output_type": "stream",
     "text": [
      "y\n",
      "a\n",
      "d\n",
      " \n",
      "e\n",
      "c\n",
      "i\n",
      "n\n",
      " \n",
      "a\n",
      " \n",
      "e\n",
      "v\n",
      "a\n"
     ]
    }
   ],
   "source": [
    "text = \"Have a nice day\"\n",
    "for i in range(len(text)-1, 0, -1):\n",
    "    print(text[i])"
   ]
  },
  {
   "cell_type": "markdown",
   "metadata": {},
   "source": [
    "### Task 13\n",
    "\n",
    "დაწერეთ პროგრამა, სადაც user შეიყვანს თავის სახელს და გვარს და პროგრამა დაუბეჭდავს შესაბამის იმეილის დასახელებას: მაგ: adam.giorgadze@edu.ge"
   ]
  },
  {
   "cell_type": "code",
   "execution_count": 126,
   "metadata": {},
   "outputs": [
    {
     "name": "stdout",
     "output_type": "stream",
     "text": [
      "sdf.sdfsdf@gau.edu.ge\n"
     ]
    }
   ],
   "source": [
    "firstname = input(\"სახელი: \")\n",
    "lastname = input(\"გვარი: \")\n",
    "print(f\"{firstname}.{lastname}@gau.edu.ge\")"
   ]
  },
  {
   "cell_type": "markdown",
   "metadata": {},
   "source": [
    "### Task 15\n",
    "\n",
    "მოახდინეთ ორი მატრიცის შეკრების მოდელირება. მოიყვანეთ ორი მაგალითი\n",
    "(შემთხვევითი და სტატიკური რიცხვებისთვის)"
   ]
  },
  {
   "cell_type": "code",
   "execution_count": 5,
   "metadata": {},
   "outputs": [
    {
     "name": "stdout",
     "output_type": "stream",
     "text": [
      "[[ 61  25  94]\n",
      " [ 80 106 104]\n",
      " [ 24  92 114]]\n"
     ]
    }
   ],
   "source": [
    "m1 = np.random.randint(1, 100, size=(3, 3))\n",
    "m2 = np.array([[10, 5, 12], [5, 10, 5], [2, 5, 90]]) \n",
    "print(m1+m2)"
   ]
  },
  {
   "cell_type": "markdown",
   "metadata": {},
   "source": [
    "### Task 17\n",
    "\n",
    "მოახდინეთ ორი მატრიცის გამრავლების მოდელირება. მოიყვანეთ ორი მაგალითი (შემთხვევითი და სტატიკური რიცხვებისთვის)"
   ]
  },
  {
   "cell_type": "code",
   "execution_count": 8,
   "metadata": {},
   "outputs": [
    {
     "name": "stdout",
     "output_type": "stream",
     "text": [
      "შემთხვევითი: \n",
      "[[13740 16700 10875 13255]\n",
      " [ 8403  9284  8810  8815]\n",
      " [ 8586 15726 10523 10259]\n",
      " [ 9617  9482  3214 10435]]\n",
      "სტატიკური: \n",
      "[[  49   82  250  130]\n",
      " [ 149  222  542  290]\n",
      " [ 249  362  834  450]\n",
      " [ 349  502 1126  610]]\n"
     ]
    }
   ],
   "source": [
    "m1_rand = np.random.randint(1, 100, size=(4, 4))\n",
    "m2_rand = np.random.randint(1, 100, size=(4, 4))\n",
    "print(\"შემთხვევითი: \")\n",
    "print(m1_rand.dot(m2_rand))\n",
    "\n",
    "print(\"სტატიკური: \")\n",
    "m1_static = np.array([[1, 2, 3, 4] , [5, 6, 7 , 8], [9, 10, 11, 12], [13, 14, 15, 16]])\n",
    "m2_static = np.array([[11, 9, 7, 4] , [5, 9, 0 , 8], [8, 13, 21, 2], [1, 4, 45, 26]])\n",
    "print(m1_static.dot(m2_static))"
   ]
  },
  {
   "cell_type": "markdown",
   "metadata": {},
   "source": [
    "### Task 19\n",
    "\n",
    "შეავსეთ 10x10 მატრიცა შემთხვევითი რიცხვებით [0, 10] შუალედიდან. წაშალეთ კლავიატურიდან შეტანილი რიცხვი. გამოიყენეთ numpy ბიბლიოთეკა."
   ]
  },
  {
   "cell_type": "code",
   "execution_count": 40,
   "metadata": {},
   "outputs": [
    {
     "name": "stdout",
     "output_type": "stream",
     "text": [
      "[ 4  6  0  0  4  3  6  4  4  2  4  7  9  1  0  6  5  0 10 10  7  2  1  2\n",
      "  0  1  2  6  5  4  3  1  0  5  2  5  9  9 10  9 10  4  3  0  1  1  8  2\n",
      "  5  4  7 10 10  2  3  3  8  2 10  4  4  8  4  3  5  9  7  4  4  6  9  4\n",
      "  0  6  6  4  9 10  0  8  7  6  0  0  4  3  4  1  0  2  9  7  0  9  0  4\n",
      "  9  2  8]\n"
     ]
    }
   ],
   "source": [
    "m = np.random.randint(0, 11, size=(10, 10))\n",
    "num = int(input(\"შეიყვანე რიცხვი: \"))\n",
    "m = np.delete(m, num) # deletes and flattens array into 1D\n",
    "\n",
    "print(m)"
   ]
  },
  {
   "cell_type": "markdown",
   "metadata": {},
   "source": [
    "### Task 20\n",
    "\n",
    "შეავსეთ 10x10 მატრიცა შემთხვევითი რიცხვებით [0, 10] შუალედიდან. წაშალეთ კლავიატურიდან შეტანილი სვეტი. გამოიყენეთ numpy ბიბლიოთეკა."
   ]
  },
  {
   "cell_type": "code",
   "execution_count": 102,
   "metadata": {},
   "outputs": [
    {
     "name": "stdout",
     "output_type": "stream",
     "text": [
      "[[ 8  9  7  2  5  3  7  1  8]\n",
      " [ 1  3  7  4  4  5  7 10  1]\n",
      " [ 2  7  6  9  7  4  5  5  5]\n",
      " [ 9  8  6  3  4  0  6  4  3]\n",
      " [10 10  6  1  1  4  5  0  1]\n",
      " [ 0  7  6  2  5  9  8  1 10]\n",
      " [ 1 10  1  4  8  4  6  1  2]\n",
      " [ 5  8  1  3  3  5  3  1  5]\n",
      " [ 5  2  8 10 10  4  4  6  2]\n",
      " [ 6  0  2  1  3  1  5  9  7]]\n"
     ]
    }
   ],
   "source": [
    "m = np.random.randint(0, 11, size=(10, 10))\n",
    "num = int(input(\"შეიყვანე რიცხვი: \"))\n",
    "m = np.delete(m, num, axis=1)\n",
    "\n",
    "print(m)"
   ]
  },
  {
   "cell_type": "markdown",
   "metadata": {},
   "source": [
    "### Task 21\n",
    "\n",
    "შეავსეთ 10x10 მატრიცა შემთხვევითი რიცხვებით [0, 10] შუალედიდან. შეცვალეთ ყველა 0-ის მნიშვნელობა 1-ით. გამოიყენეთ numpy ბიბლიოთეკა."
   ]
  },
  {
   "cell_type": "code",
   "execution_count": 117,
   "metadata": {},
   "outputs": [
    {
     "name": "stdout",
     "output_type": "stream",
     "text": [
      "True\n",
      "False\n"
     ]
    }
   ],
   "source": [
    "m = np.random.randint(0, 11, size=(10, 10))\n",
    "print(0 in m)\n",
    "m[m==0] = 1\n",
    "print(0 in m)"
   ]
  },
  {
   "cell_type": "markdown",
   "metadata": {},
   "source": [
    "### Task 22\n",
    "\n",
    "ააგეთ ჭადრაკის დაფა. გამოიყენეთ numpy ბიბლიოთეკა."
   ]
  },
  {
   "cell_type": "code",
   "execution_count": 93,
   "metadata": {},
   "outputs": [
    {
     "name": "stdout",
     "output_type": "stream",
     "text": [
      "[[0 1 0 1 0 1 0 1]\n",
      " [1 0 1 0 1 0 1 0]\n",
      " [0 1 0 1 0 1 0 1]\n",
      " [1 0 1 0 1 0 1 0]\n",
      " [0 1 0 1 0 1 0 1]\n",
      " [1 0 1 0 1 0 1 0]\n",
      " [0 1 0 1 0 1 0 1]\n",
      " [1 0 1 0 1 0 1 0]]\n"
     ]
    }
   ],
   "source": [
    "board = np.zeros(shape=(8, 8), dtype=\"int\")\n",
    "board[1::2, ::2] = 1\n",
    "board[::2, 1::2] = 1\n",
    "print(board)"
   ]
  },
  {
   "cell_type": "markdown",
   "metadata": {},
   "source": [
    "### Task 23\n",
    "\n",
    "შეავსეთ ორი 10x10 მატრიცა შემთხვევითი რიცხვებით [0, 10] შუალედიდან. გადაიყვანეთ ორივე მატრიცა ერთ ლისტად. გამოიყენეთ numpy ბიბლიოთეკა."
   ]
  },
  {
   "cell_type": "code",
   "execution_count": 101,
   "metadata": {},
   "outputs": [
    {
     "name": "stdout",
     "output_type": "stream",
     "text": [
      "[0, 10, 1, 1, 6, 10, 8, 6, 1, 9, 9, 9, 3, 6, 2, 5, 6, 2, 7, 0, 2, 5, 4, 4, 1, 6, 1, 0, 0, 9, 1, 2, 0, 2, 2, 8, 3, 9, 5, 4, 0, 1, 4, 10, 8, 3, 3, 6, 1, 0, 7, 4, 9, 4, 4, 7, 4, 7, 6, 7, 6, 3, 10, 10, 5, 8, 4, 9, 2, 0, 7, 5, 8, 0, 7, 5, 1, 1, 10, 1, 2, 8, 6, 1, 5, 7, 2, 3, 8, 10, 0, 1, 9, 2, 5, 9, 4, 1, 8, 3, 0, 8, 1, 1, 0, 9, 10, 1, 1, 7, 6, 9, 1, 10, 10, 3, 7, 8, 6, 0, 5, 5, 9, 0, 5, 3, 8, 4, 1, 1, 0, 6, 8, 8, 5, 7, 7, 7, 10, 10, 5, 6, 0, 5, 9, 1, 9, 0, 2, 10, 10, 0, 5, 6, 3, 7, 1, 2, 9, 8, 8, 1, 1, 1, 6, 1, 1, 8, 8, 10, 3, 5, 1, 1, 4, 5, 8, 8, 0, 8, 7, 0, 9, 5, 9, 6, 3, 5, 9, 7, 2, 3, 0, 6, 5, 5, 0, 0, 4, 10]\n"
     ]
    }
   ],
   "source": [
    "m1 = np.random.randint(0, 11, size=(10, 10))\n",
    "m2 = np.random.randint(0, 11, size=(10, 10))\n",
    "print(np.concatenate((m1, m2), axis=0).flatten().tolist())"
   ]
  }
 ],
 "metadata": {
  "interpreter": {
   "hash": "b9093a1ddd1e5a1702194cb97bbe1c4516ab068916d9c0e38046918de0d5914d"
  },
  "kernelspec": {
   "display_name": "Python 3 (ipykernel)",
   "language": "python",
   "name": "python3"
  },
  "language_info": {
   "codemirror_mode": {
    "name": "ipython",
    "version": 3
   },
   "file_extension": ".py",
   "mimetype": "text/x-python",
   "name": "python",
   "nbconvert_exporter": "python",
   "pygments_lexer": "ipython3",
   "version": "3.9.2"
  }
 },
 "nbformat": 4,
 "nbformat_minor": 2
}
